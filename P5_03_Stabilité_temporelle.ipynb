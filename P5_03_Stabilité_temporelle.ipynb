{
 "cells": [
  {
   "cell_type": "markdown",
   "id": "d15353c2",
   "metadata": {},
   "source": [
    "# Stabilité temporelle des modèles de segmentation"
   ]
  },
  {
   "cell_type": "markdown",
   "id": "716e8c1c",
   "metadata": {},
   "source": [
    "## Librairies"
   ]
  },
  {
   "cell_type": "code",
   "execution_count": 71,
   "id": "db9a22f1",
   "metadata": {},
   "outputs": [],
   "source": [
    "import numpy as np\n",
    "import pandas as pd\n",
    "from math import radians, cos, sin, asin, sqrt\n",
    "from time import time\n",
    "from datetime import datetime\n",
    "import seaborn as sns\n",
    "import matplotlib.pyplot as plt\n",
    "from sklearn.preprocessing import StandardScaler, MinMaxScaler\n",
    "from sklearn.cluster import KMeans\n",
    "from sklearn.pipeline import Pipeline, make_pipeline\n",
    "from sklearn.metrics import homogeneity_score, adjusted_rand_score, adjusted_mutual_info_score\n",
    "from IPython.core.display import HTML\n",
    "import warnings"
   ]
  },
  {
   "cell_type": "markdown",
   "id": "49d4e48e",
   "metadata": {},
   "source": [
    "## Fonctions usuelles"
   ]
  },
  {
   "cell_type": "code",
   "execution_count": 72,
   "id": "a9733b1b",
   "metadata": {},
   "outputs": [],
   "source": [
    "pd. set_option('display.max_columns', None)\n",
    "pd. set_option('display.max_rows', None)\n",
    "pd. set_option('display.max_colwidth', None)\n",
    "plt.style.use('fivethirtyeight')\n",
    "warnings.filterwarnings('ignore')"
   ]
  },
  {
   "cell_type": "code",
   "execution_count": 198,
   "id": "d856d4de",
   "metadata": {},
   "outputs": [],
   "source": [
    "def haversine_distance(lat1, lng1, lat2, lng2, degrees=True):\n",
    "    \"\"\"The haversine formula makes it possible to determine the distance of the great circle \n",
    "        between two points of a sphere, from their longitudes and latitudes.\n",
    "\n",
    "    Parameters\n",
    "    ----------\n",
    "    lat1, lat2 : float\n",
    "        Latitudes of the 2 coordinate points to compare. \n",
    "    lng1, lng2 : float\n",
    "        Longitudes of the 2 coordinate points to compare.\n",
    "    degrees : boolean\n",
    "        If True, converts radians to degrees.\n",
    "    \"\"\"\n",
    "    # Radius of the earth in miles\n",
    "    r = 3956 \n",
    "    \n",
    "    if degrees:\n",
    "        lat1, lng1, lat2, lng2 = map(radians, [lat1, lng1, lat2, lng2])\n",
    "    \n",
    "    # Haversine formula\n",
    "    dlng = lng2 - lng1 \n",
    "    dlat = lat2 - lat1 \n",
    "    a = sin(dlat/2)**2 + cos(lat1) * cos(lat2) * sin(dlng/2)**2\n",
    "    d = 2 * r * asin(sqrt(a))  \n",
    "\n",
    "    return d\n",
    "\n",
    "def make_dataset(dpath=\"datas/\", initial=False, period=2):\n",
    "    \"\"\"Cleaning and feature engineering on complete Olist data \n",
    "        for preparation of unsupervised classification (K-Means).\n",
    "\n",
    "    Parameters\n",
    "    ----------\n",
    "    dpath : str\n",
    "        Path to the directory containing the data.\n",
    "    initial : boolean\n",
    "        Defines whether the created dataset is the initial dataset.\n",
    "    period : int\n",
    "        Increment period in months after initial dataset.\n",
    "    \"\"\"\n",
    "    start_time = time()\n",
    "    print(\"Création du dataset en cours ...\")\n",
    "    \n",
    "    # Root path\n",
    "    root_path = dpath\n",
    "    \n",
    "    # Load datasets\n",
    "    customers = pd.read_csv(root_path + \"olist_customers_dataset.csv\")\n",
    "    geolocation = pd.read_csv(root_path + \"olist_geolocation_dataset.csv\")\n",
    "    orders = pd.read_csv(root_path + \"olist_orders_dataset.csv\")\n",
    "    order_items = pd.read_csv(root_path + \"olist_order_items_dataset.csv\")\n",
    "    order_payments = pd.read_csv(root_path + \"olist_order_payments_dataset.csv\")\n",
    "    order_reviews = pd.read_csv(root_path + \"olist_order_reviews_dataset.csv\")\n",
    "    products = pd.read_csv(root_path + \"olist_products_dataset.csv\")\n",
    "    categories_en = pd.read_csv(root_path + \"product_category_name_translation.csv\")\n",
    "    \n",
    "    # Group location \n",
    "    geolocation = geolocation.groupby([\"geolocation_state\"]).agg({\n",
    "            \"geolocation_lat\": \"mean\",\n",
    "            \"geolocation_lng\": \"mean\"})\n",
    "    \n",
    "    # Merge datasets\n",
    "    # Orders\n",
    "    orders.drop([\"order_approved_at\",\n",
    "                 \"order_delivered_carrier_date\", \n",
    "                 \"order_estimated_delivery_date\"],\n",
    "                axis=1, inplace=True)\n",
    "\n",
    "    order_items.drop([\"seller_id\",\n",
    "                      \"shipping_limit_date\"],\n",
    "                     axis=1, inplace=True)\n",
    "    order_items = pd.merge(order_items, orders,\n",
    "                           how=\"left\",\n",
    "                           on=\"order_id\")\n",
    "    \n",
    "    datetime_cols = [\"order_purchase_timestamp\", \n",
    "                     \"order_delivered_customer_date\"]\n",
    "    for col in datetime_cols:\n",
    "        order_items[col] = order_items[col].astype('datetime64[ns]')\n",
    "        \n",
    "    # order Month\n",
    "    order_items[\"sale_month\"] = order_items['order_purchase_timestamp'].dt.month\n",
    "    \n",
    "    # Select orders on period\n",
    "    start=order_items[\"order_purchase_timestamp\"].min()\n",
    "    if period != 99:\n",
    "        if(initial == True):\n",
    "            period = 12\n",
    "        else:\n",
    "            period = 12+period\n",
    "        stop=start + pd.DateOffset(months=period)\n",
    "    else :\n",
    "        print(\"period is 99\")\n",
    "        stop=order_items[\"order_purchase_timestamp\"].max()\n",
    "        \n",
    "    order_items = order_items[(order_items[\"order_purchase_timestamp\"]>=start)\n",
    "                              & (order_items[\"order_purchase_timestamp\"]<stop)]\n",
    "    \n",
    "    # List of orders on period\n",
    "    period_orders = order_items.order_id.unique()\n",
    "    \n",
    "    # Calculate other features on period\n",
    "    order_payments = order_payments[order_payments[\"order_id\"].isin(period_orders)]\n",
    "    order_items = pd.merge(order_items, \n",
    "                           order_payments.groupby(by=\"order_id\").agg(\n",
    "                               {\"payment_sequential\": 'count',\n",
    "                                \"payment_installments\": 'sum'}),\n",
    "                           how=\"left\",\n",
    "                           on=\"order_id\")\n",
    "    order_items = order_items.rename(columns={\n",
    "        \"payment_sequential\": \"nb_payment_sequential\",\n",
    "        \"payment_installments\": \"sum_payment_installments\"})\n",
    "    \n",
    "    order_reviews = order_reviews[order_reviews[\"order_id\"].isin(period_orders)]\n",
    "    order_items = pd.merge(order_items,\n",
    "                           order_reviews.groupby(\"order_id\").agg({\n",
    "                               \"review_score\": \"mean\"}),\n",
    "                           how=\"left\",\n",
    "                           on=\"order_id\")\n",
    "    \n",
    "    # Delivery time\n",
    "    order_items[\"delivery_delta_days\"] = (order_items.order_delivered_customer_date\n",
    "                                          - order_items.order_purchase_timestamp)\\\n",
    "                                         .dt.round('1d').dt.days\n",
    "    order_items.drop(\"order_delivered_customer_date\", axis=1, inplace=True)\n",
    "    \n",
    "    # Products\n",
    "    products = pd.merge(products, categories_en,\n",
    "                    how=\"left\",\n",
    "                    on=\"product_category_name\")\n",
    "\n",
    "    del_features_list = [\"product_category_name\", \"product_weight_g\",\n",
    "                         \"product_length_cm\", \"product_height_cm\",\n",
    "                         \"product_width_cm\", \"product_name_lenght\", \n",
    "                         \"product_description_lenght\", \"product_photos_qty\"]\n",
    "    products.drop(del_features_list, axis=1, inplace=True)\n",
    "    products = products.rename(columns={\"product_category_name_english\":\n",
    "                                        \"product_category_name\"})\n",
    "        \n",
    "    products['product_category'] = np.where((products['product_category_name'].str.contains(\"fashio|luggage\")==True),\n",
    "                                    'fashion_clothing_accessories',\n",
    "                            np.where((products['product_category_name'].str.contains(\"health|beauty|perfum\")==True),\n",
    "                                     'health_beauty',\n",
    "                            np.where((products['product_category_name'].str.contains(\"toy|baby|diaper\")==True),\n",
    "                                     'toys_baby',\n",
    "                            np.where((products['product_category_name'].str.contains(\"book|cd|dvd|media\")==True),\n",
    "                                     'books_cds_media',\n",
    "                            np.where((products['product_category_name'].str.contains(\"grocer|food|drink\")==True), \n",
    "                                     'groceries_food_drink',\n",
    "                            np.where((products['product_category_name'].str.contains(\"phon|compu|tablet|electro|consol\")==True), \n",
    "                                     'technology',\n",
    "                            np.where((products['product_category_name'].str.contains(\"home|furnitur|garden|bath|house|applianc\")==True), \n",
    "                                     'home_furniture',\n",
    "                            np.where((products['product_category_name'].str.contains(\"flow|gift|stuff\")==True),\n",
    "                                     'flowers_gifts',\n",
    "                            np.where((products['product_category_name'].str.contains(\"sport\")==True),\n",
    "                                     'sport',\n",
    "                                     'other')))))))))\n",
    "    products.drop(\"product_category_name\", axis=1, inplace=True)\n",
    "\n",
    "    order_items = pd.merge(order_items, products, \n",
    "                           how=\"left\",\n",
    "                           on=\"product_id\")\n",
    "    \n",
    "    # Encode categories column\n",
    "    order_items = pd.get_dummies(order_items, columns=[\"product_category\"], prefix=\"\", prefix_sep=\"\")\n",
    "    \n",
    "    # Customers\n",
    "    order_items = pd.merge(order_items, customers[[\"customer_id\",\n",
    "                                                   \"customer_unique_id\",\n",
    "                                                   \"customer_state\"]],\n",
    "                           on=\"customer_id\",\n",
    "                           how=\"left\")\n",
    "    \n",
    "    # Group datas by unique customers\n",
    "    data = order_items.groupby([\"customer_unique_id\"]).agg(\n",
    "        nb_orders=pd.NamedAgg(column=\"order_id\", aggfunc=\"nunique\"),\n",
    "        total_items=pd.NamedAgg(column=\"order_item_id\", aggfunc=\"count\"),\n",
    "        total_spend=pd.NamedAgg(column=\"price\", aggfunc=\"sum\"),\n",
    "        total_freight=pd.NamedAgg(column=\"freight_value\", aggfunc=\"sum\"),\n",
    "        mean_payment_sequential=pd.NamedAgg(column=\"nb_payment_sequential\", aggfunc=\"mean\"),\n",
    "        mean_payment_installments=pd.NamedAgg(column=\"sum_payment_installments\", aggfunc=\"mean\"),\n",
    "        mean_review_score=pd.NamedAgg(column=\"review_score\", aggfunc=\"mean\"),\n",
    "        mean_delivery_days=pd.NamedAgg(column=\"delivery_delta_days\", aggfunc=\"mean\"),\n",
    "        books_cds_media=pd.NamedAgg(column=\"books_cds_media\", aggfunc=\"sum\"),\n",
    "        fashion_clothing_accessories=pd.NamedAgg(column=\"fashion_clothing_accessories\", aggfunc=\"sum\"),\n",
    "        flowers_gifts=pd.NamedAgg(column=\"flowers_gifts\", aggfunc=\"sum\"),\n",
    "        groceries_food_drink=pd.NamedAgg(column=\"groceries_food_drink\", aggfunc=\"sum\"),\n",
    "        health_beauty=pd.NamedAgg(column=\"health_beauty\", aggfunc=\"sum\"),\n",
    "        home_furniture=pd.NamedAgg(column=\"home_furniture\", aggfunc=\"sum\"),\n",
    "        other=pd.NamedAgg(column=\"other\", aggfunc=\"sum\"),\n",
    "        sport=pd.NamedAgg(column=\"sport\", aggfunc=\"sum\"),\n",
    "        technology=pd.NamedAgg(column=\"technology\", aggfunc=\"sum\"),\n",
    "        toys_baby=pd.NamedAgg(column=\"toys_baby\", aggfunc=\"sum\"),\n",
    "        customer_state=pd.NamedAgg(column=\"customer_state\", aggfunc=\"max\"),\n",
    "        first_order=pd.NamedAgg(column=\"order_purchase_timestamp\", aggfunc=\"min\"),\n",
    "        last_order=pd.NamedAgg(column=\"order_purchase_timestamp\", aggfunc=\"max\"),\n",
    "        favorite_sale_month=pd.NamedAgg(column=\"sale_month\", \n",
    "                                        aggfunc=lambda x:x.value_counts().index[0]))\n",
    "    \n",
    "    # Final feature engineering\n",
    "    # Categories items ratio\n",
    "    cat_features = data.columns[7:17]\n",
    "    for c in cat_features:\n",
    "        data[c] = data[c] / data[\"total_items\"]\n",
    "    \n",
    "    # Mean delay between 2 orders\n",
    "    data[\"order_mean_delay\"] = [(y[1] - y[0]).round('1d').days if y[1] != y[0]\n",
    "                                else (stop - y[0]).round('1d').days\n",
    "                                for x,y in data[[\"first_order\",\"last_order\"]].iterrows()]\n",
    "    data[\"order_mean_delay\"] = data[\"order_mean_delay\"] / data[\"nb_orders\"]\n",
    "#     data.drop([\"first_order\", \"last_order\"], axis=1, inplace=True)\n",
    "    \n",
    "    # Freight ratio and total price\n",
    "    data[\"freight_ratio\"] = (round(data[\"total_freight\"] / (data[\"total_spend\"] + data[\"total_freight\"]),2))\n",
    "    data[\"total_spend\"] = (data[\"total_spend\"] + data[\"total_freight\"])\n",
    "    data.drop(\"total_freight\", axis=1, inplace=True)\n",
    "    \n",
    "    # Add Haversine distance of customer state\n",
    "    # Haversine distance\n",
    "    olist_lat = -25.43045\n",
    "    olist_lon = -49.29207\n",
    "        \n",
    "    geolocation['haversine_distance'] = [haversine_distance(olist_lat, olist_lon, x, y)\n",
    "                                         for x, y in zip(geolocation.geolocation_lat,\n",
    "                                                         geolocation.geolocation_lng)]\n",
    "    data = pd.merge(data.reset_index(), geolocation[[\"haversine_distance\"]],\n",
    "                    how=\"left\",\n",
    "                    left_on=\"customer_state\",\n",
    "                    right_on=\"geolocation_state\")\n",
    "    data.drop([\"customer_state\"], axis=1, inplace=True)\n",
    "    data.set_index(\"customer_unique_id\", inplace=True)\n",
    "    \n",
    "    # complete missing values\n",
    "    features_to_fill = data.isnull().sum()\n",
    "    features_to_fill = list(features_to_fill[features_to_fill.values > 0].index)\n",
    "    \n",
    "    print(54*\"_\")\n",
    "    print(\"Features complétées avec la valeur la plus fréquente :\")\n",
    "    print(54*\"_\")\n",
    "    for f in features_to_fill:\n",
    "        data[f] = data[f].fillna(data[f].mode()[0])\n",
    "        print(f,\"\\t\", data[f].mode()[0])\n",
    "    print(54*\"_\")\n",
    "    \n",
    "    end_time = time()\n",
    "    print(\"Durée d'execution du Feature engineering : {:.2f}s\".format(end_time - start_time))\n",
    "    \n",
    "    return data\n",
    "\n",
    "def clustering_eval(preprocessor, model, data, metric, elbow=True, mds=False, KBest=None):\n",
    "    \n",
    "    if((elbow==True) & (mds==True)):\n",
    "        ncols=3\n",
    "    elif((elbow==False) | (mds==False)):\n",
    "        ncols=2\n",
    "    else:\n",
    "        ncols=1\n",
    "        \n",
    "    fig, axes = plt.subplots(nrows=1, ncols=ncols, sharex=False, sharey=False, figsize=(24,8))\n",
    "    \n",
    "    ax=0\n",
    "    if(elbow==True):\n",
    "        # Elbow visualizer\n",
    "        kmeans_visualizer = Pipeline([\n",
    "            (\"preprocessor\", preprocessor),\n",
    "            (\"kelbowvisualizer\", KElbowVisualizer(model,K=(4,12), metric=metric, ax=axes[ax]))])\n",
    "        kmeans_visualizer.fit(data)\n",
    "        KBest = kmeans_visualizer.named_steps['kelbowvisualizer'].elbow_value_\n",
    "        kmeans_visualizer.named_steps['kelbowvisualizer'].finalize()\n",
    "        ax+=1\n",
    "    \n",
    "    # Set best K\n",
    "    K = KBest\n",
    "    model.set_params(n_clusters=K)\n",
    "\n",
    "    # Silhouette Visualizer\n",
    "    silhouette_visualizer = Pipeline([\n",
    "        (\"preprocessor\", preprocessor),\n",
    "        (\"silhouettevisualizer\", SilhouetteVisualizer(model, ax=axes[ax]))])\n",
    "    silhouette_visualizer.fit(data)\n",
    "    silhouette_visualizer.named_steps['silhouettevisualizer'].finalize()\n",
    "    ax+=1\n",
    "    \n",
    "    # Intercluster distance Map with best k\n",
    "    if(mds==True):\n",
    "        distance_visualizer = Pipeline([\n",
    "            (\"preprocessor\", preprocessor),\n",
    "            (\"distancevisualizer\", InterclusterDistance(model, ax=axes[ax]))])\n",
    "        distance_visualizer.fit(data)\n",
    "        distance_visualizer.named_steps['distancevisualizer'].finalize()\n",
    "    plt.show()\n",
    "    return K\n",
    "    \n",
    "    \n",
    "def process_recency(order_date_string):\n",
    "    date_format = '%Y-%m-%d %H:%M:%S'\n",
    "    last_order = datetime.strptime(str(data[\"last_order\"].max()), date_format)\n",
    "    last_customer_order = datetime.strptime(order_date_string,date_format)\n",
    "    nb_days = (last_order - last_customer_order).days\n",
    "    return nb_days\n",
    "\n",
    "def k_means_group(data, n_clusters, random_state, asc=False, log_transf=False, standard_tranf=False):\n",
    "    \n",
    "    data_temp = data.copy()\n",
    "    if log_transf:\n",
    "        data_temp = np.log(data_temp) + 1\n",
    "        \n",
    "    if standard_tranf:\n",
    "        scaler = StandardScaler()\n",
    "        scaler = scaler.fit(data_temp)\n",
    "        data_temp = scaler.transform(data_temp)\n",
    "        \n",
    "    kmeans_sel = KMeans(n_clusters=n_clusters, random_state=random_state).fit(data_temp)\n",
    "    \n",
    "    cluster_group = data.assign(cluster = kmeans_sel.labels_)\n",
    "    \n",
    "    mean_group = cluster_group.groupby('cluster').mean().reset_index()\n",
    "    mean_group = mean_group.sort_values(by=mean_group.columns[1],ascending=asc)\n",
    "    mean_group['cluster_set'] = [i for i in range(n_clusters, 0, -1) ]\n",
    "    \n",
    "    cluster_map = mean_group.set_index('cluster').to_dict()['cluster_set']\n",
    "    \n",
    "    return cluster_group['cluster'].map(cluster_map)\n",
    "\n",
    "def process_rfm(data):\n",
    "    data[\"recency\"] = data[\"last_order\"].astype(str).apply(process_recency)\n",
    "    r_labels = k_means_group(data[['recency']],5,1,asc=True)\n",
    "    f_labels = k_means_group(data[['nb_orders']],5,1)\n",
    "    m_labels = k_means_group(data[['total_spend']],5,1)\n",
    "    data = data.assign(R = r_labels, F = f_labels, M = m_labels)\n",
    "    return data\n",
    "\n",
    "def process_data(data):\n",
    "    data_r = data.copy()\n",
    "    data_r = process_rfm(data_r)\n",
    "    data_r = data_r[[\"R\", \"F\", \"M\"]]\n",
    "    return data_r"
   ]
  },
  {
   "cell_type": "markdown",
   "id": "207f9383",
   "metadata": {},
   "source": [
    "## Détermination de la période totale à couvrir"
   ]
  },
  {
   "cell_type": "code",
   "execution_count": 124,
   "id": "a31ee14a",
   "metadata": {},
   "outputs": [
    {
     "name": "stdout",
     "output_type": "stream",
     "text": [
      "Le jeu de donnée initial couvre une période de 23 mois.\n"
     ]
    }
   ],
   "source": [
    "olist_path = \"./data/\"\n",
    "orders = pd.read_csv(olist_path+\"olist_orders_dataset.csv\")\n",
    "orders = orders.loc[orders.order_status == \"delivered\", \n",
    "                    \"order_purchase_timestamp\"]\n",
    "orders = pd.to_datetime(orders)\n",
    "time_delta = int((orders.max() - orders.min())/np.timedelta64(1,'M'))\n",
    "print(\"Le jeu de donnée initial couvre une période de {} mois.\".format(time_delta))"
   ]
  },
  {
   "cell_type": "code",
   "execution_count": 184,
   "id": "16b9d653",
   "metadata": {},
   "outputs": [
    {
     "data": {
      "text/plain": [
       "Timestamp('2018-08-29 15:00:37')"
      ]
     },
     "execution_count": 184,
     "metadata": {},
     "output_type": "execute_result"
    }
   ],
   "source": [
    "orders.max()"
   ]
  },
  {
   "cell_type": "code",
   "execution_count": 185,
   "id": "8c14c56f",
   "metadata": {},
   "outputs": [
    {
     "data": {
      "text/plain": [
       "Timestamp('2016-09-15 12:16:38')"
      ]
     },
     "execution_count": 185,
     "metadata": {},
     "output_type": "execute_result"
    }
   ],
   "source": [
    "orders.min()"
   ]
  },
  {
   "cell_type": "markdown",
   "id": "c09f9af6",
   "metadata": {},
   "source": [
    "## Evolution du nombre de nouveaux clients"
   ]
  },
  {
   "cell_type": "markdown",
   "id": "30b8fbfd",
   "metadata": {},
   "source": [
    "Regardons tout d'abord commement évolue le nombre de nouveaux clients dans notre jeu de données :"
   ]
  },
  {
   "cell_type": "code",
   "execution_count": 201,
   "id": "7d5e847b",
   "metadata": {},
   "outputs": [
    {
     "name": "stdout",
     "output_type": "stream",
     "text": [
      "Création du dataset en cours ...\n",
      "period is 99\n",
      "______________________________________________________\n",
      "Features complétées avec la valeur la plus fréquente :\n",
      "______________________________________________________\n",
      "mean_payment_sequential \t 1.0\n",
      "mean_payment_installments \t 1.0\n",
      "mean_review_score \t 5.0\n",
      "mean_delivery_days \t 7.0\n",
      "______________________________________________________\n",
      "Durée d'execution du Feature engineering : 39.73s\n"
     ]
    }
   ],
   "source": [
    "data = make_dataset(\"./data/\", period=99, initial=True)"
   ]
  },
  {
   "cell_type": "code",
   "execution_count": 202,
   "id": "c2b61127",
   "metadata": {},
   "outputs": [
    {
     "name": "stdout",
     "output_type": "stream",
     "text": [
      "premières commandes : \n"
     ]
    },
    {
     "data": {
      "text/plain": [
       "customer_unique_id\n",
       "b7d76e111c89f7ebf14761390f0f7d17   2016-09-04 21:15:19\n",
       "4854e9b3feff728c13ee5fc7d1547e92   2016-09-05 00:15:34\n",
       "830d5b7aaa3b6f1e9ad63703bec97d23   2016-09-15 12:16:38\n",
       "0eb1ee9dba87f5b36b4613a65074337c   2016-10-02 22:07:52\n",
       "32ea3bdedab835c3aa6cb68ce66565ef   2016-10-03 09:44:50\n",
       "Name: first_order, dtype: datetime64[ns]"
      ]
     },
     "metadata": {},
     "output_type": "display_data"
    },
    {
     "name": "stdout",
     "output_type": "stream",
     "text": [
      "dernières premières commandes : \n"
     ]
    },
    {
     "data": {
      "text/plain": [
       "customer_unique_id\n",
       "7a22d14aa3c3599238509ddca4b93b01   2018-08-29 12:25:59\n",
       "5c58de6fb80e93396e2f35642666b693   2018-08-29 14:18:23\n",
       "7febafa06d9d8f232a900a2937f04338   2018-08-29 14:18:28\n",
       "b701bebbdf478f5500348f03aff62121   2018-08-29 14:52:00\n",
       "24ac2b4327e25baf39f2119e4228976a   2018-08-29 15:00:37\n",
       "Name: first_order, dtype: datetime64[ns]"
      ]
     },
     "metadata": {},
     "output_type": "display_data"
    }
   ],
   "source": [
    "print(\"premières commandes : \")\n",
    "display(data.sort_values(by=[\"first_order\"], ascending=True)[\"first_order\"].head())\n",
    "print(\"dernières premières commandes : \")\n",
    "display(data.sort_values(by=[\"first_order\"], ascending=True)[\"first_order\"].tail())"
   ]
  },
  {
   "cell_type": "code",
   "execution_count": 203,
   "id": "ed32758c",
   "metadata": {},
   "outputs": [
    {
     "name": "stdout",
     "output_type": "stream",
     "text": [
      "dernières commandes :\n"
     ]
    },
    {
     "data": {
      "text/plain": [
       "customer_unique_id\n",
       "7a22d14aa3c3599238509ddca4b93b01   2018-08-29 12:25:59\n",
       "5c58de6fb80e93396e2f35642666b693   2018-08-29 14:18:23\n",
       "7febafa06d9d8f232a900a2937f04338   2018-08-29 14:18:28\n",
       "b701bebbdf478f5500348f03aff62121   2018-08-29 14:52:00\n",
       "24ac2b4327e25baf39f2119e4228976a   2018-08-29 15:00:37\n",
       "Name: last_order, dtype: datetime64[ns]"
      ]
     },
     "execution_count": 203,
     "metadata": {},
     "output_type": "execute_result"
    }
   ],
   "source": [
    "print(\"dernières commandes :\")\n",
    "data.sort_values(by=[\"last_order\"], ascending=True)[\"last_order\"].tail()"
   ]
  },
  {
   "cell_type": "code",
   "execution_count": 204,
   "id": "3bb8e9ef",
   "metadata": {},
   "outputs": [
    {
     "data": {
      "image/png": "[encoded data removed]",
      "text/plain": [
       "<Figure size 1944x648 with 1 Axes>"
      ]
     },
     "metadata": {},
     "output_type": "display_data"
    }
   ],
   "source": [
    "data.groupby(\n",
    "    [\n",
    "        data[\"first_order\"].dt.year, \n",
    "        data[\"first_order\"].dt.month,\n",
    "    ]\n",
    ").count()[\"first_order\"].plot(figsize=(27,9))\n",
    "plt.xticks(rotation=45)\n",
    "plt.xlabel(\"Date (année, mois, semaine, jour)\")\n",
    "plt.ylabel(\"Nouveaux clients\")\n",
    "plt.title(\"Evolution du nombre de nouveaux clients\")\n",
    "plt.show()"
   ]
  },
  {
   "cell_type": "markdown",
   "id": "920d9945",
   "metadata": {},
   "source": [
    "On peut voir que le nombre de nouveaux clients augmente fortement au bout de 3 mois. Et globalement, on observe de grosses variations tous les trimestres. Basons-nous sur un delta de 3 mois pour voir comment évolue notre clustering"
   ]
  },
  {
   "cell_type": "code",
   "execution_count": 205,
   "id": "3135e447",
   "metadata": {},
   "outputs": [
    {
     "data": {
      "image/png": "[encoded data removed]",
      "text/plain": [
       "<Figure size 1296x648 with 1 Axes>"
      ]
     },
     "metadata": {},
     "output_type": "display_data"
    }
   ],
   "source": [
    "data.groupby(\n",
    "    [\n",
    "        data[\"first_order\"].dt.year, \n",
    "        data[\"first_order\"].dt.month,\n",
    "#         data[\"first_order\"].dt.week,\n",
    "#         data[\"first_order\"].dt.day\n",
    "    ]\n",
    ").count()[\"first_order\"].cumsum().plot(figsize=(18,9))\n",
    "\n",
    "plt.xticks(rotation=45)\n",
    "plt.xlabel(\"Date (année, mois, semaine, jour)\")\n",
    "plt.ylabel(\"Nouveaux clients\")\n",
    "plt.title(\"Evolution cumulative du nombre de nouveaux clients\")\n",
    "plt.show()"
   ]
  },
  {
   "cell_type": "markdown",
   "id": "9446cf4b",
   "metadata": {},
   "source": [
    "Ici, nous avons le nombre cumulé de nouveaux clients en fonction du temps, sur toute la durée couverte par nos données. Le nombre de clients est faible le premier trimestre (de nos données, ce qui correspond aux dernier trimestre 2016), et commence à prendre son envol au cours du trimestre suivant."
   ]
  },
  {
   "cell_type": "markdown",
   "id": "8047e49a",
   "metadata": {},
   "source": [
    "## Stabilité temporelle"
   ]
  },
  {
   "cell_type": "markdown",
   "id": "a6b738a0",
   "metadata": {},
   "source": [
    "Nous allons d'abord entraîner notre meilleur modèle sur les données de la première année afin d'avoir une base de comparaison.\n",
    "\n",
    "Rappellons que notre meilleur modèle était K-means avec K=3 et entraîné sur les données ne comprenant pas les catégories de produits, ni les variables issues de la segmentation métier (RFM)."
   ]
  },
  {
   "cell_type": "code",
   "execution_count": 121,
   "id": "5fda30f2",
   "metadata": {},
   "outputs": [],
   "source": [
    "products_categories = [\n",
    "    'books_cds_media',\n",
    "    'fashion_clothing_accessories',\n",
    "    'flowers_gifts',\n",
    "    'groceries_food_drink',\n",
    "    'health_beauty',\n",
    "    'home_furniture',\n",
    "    'other',\n",
    "    'sport',\n",
    "    'technology',\n",
    "    'toys_baby'\n",
    "]"
   ]
  },
  {
   "cell_type": "code",
   "execution_count": 122,
   "id": "bd92d025",
   "metadata": {},
   "outputs": [
    {
     "name": "stdout",
     "output_type": "stream",
     "text": [
      "Création du dataset en cours ...\n",
      "______________________________________________________\n",
      "Features complétées avec la valeur la plus fréquente :\n",
      "______________________________________________________\n",
      "mean_payment_sequential \t 1.0\n",
      "mean_payment_installments \t 1.0\n",
      "mean_review_score \t 5.0\n",
      "mean_delivery_days \t 7.0\n",
      "______________________________________________________\n",
      "Durée d'execution du Feature engineering : 10.76s\n"
     ]
    }
   ],
   "source": [
    "data_init = make_dataset(dpath=\"./data/\", initial=True, period=0)\n",
    "data_init.drop(products_categories, axis=1, inplace=True)"
   ]
  },
  {
   "cell_type": "code",
   "execution_count": 123,
   "id": "29aab366",
   "metadata": {},
   "outputs": [],
   "source": [
    "data_init.dropna(inplace=True)"
   ]
  },
  {
   "cell_type": "code",
   "execution_count": 125,
   "id": "33809da3",
   "metadata": {},
   "outputs": [],
   "source": [
    "X_init = data_init.select_dtypes(include=np.number)\n",
    "kmeans_init = Pipeline(\n",
    "    [\n",
    "        (\"preprocessor\", MinMaxScaler()),\n",
    "        (\"kmeans\", KMeans(3, random_state=1))\n",
    "    ]\n",
    ")\n",
    "kmeans_init.fit(X_init)\n",
    "init_labels = kmeans_init.named_steps['kmeans'].labels_"
   ]
  },
  {
   "cell_type": "markdown",
   "id": "da0d5837",
   "metadata": {},
   "source": [
    "Maintenant, nous allons rééffectuer notre clustering plusieurs fois, avec un delta de 3 mois, et nous comparerons les labels des clients de notre première année, afin de voir s'il y a eu une évolution dans leur classification"
   ]
  },
  {
   "cell_type": "code",
   "execution_count": 132,
   "id": "5c681f5b",
   "metadata": {
    "scrolled": false
   },
   "outputs": [
    {
     "data": {
      "text/html": [
       "<h1>Itération n°1</h1>"
      ],
      "text/plain": [
       "<IPython.core.display.HTML object>"
      ]
     },
     "metadata": {},
     "output_type": "display_data"
    },
    {
     "name": "stdout",
     "output_type": "stream",
     "text": [
      "Création du dataset en cours ...\n",
      "______________________________________________________\n",
      "Features complétées avec la valeur la plus fréquente :\n",
      "______________________________________________________\n",
      "mean_payment_sequential \t 1.0\n",
      "mean_payment_installments \t 1.0\n",
      "mean_review_score \t 5.0\n",
      "mean_delivery_days \t 7.0\n",
      "______________________________________________________\n",
      "Durée d'execution du Feature engineering : 17.43s\n"
     ]
    },
    {
     "data": {
      "text/html": [
       "<h2>Score ARI :</h2>"
      ],
      "text/plain": [
       "<IPython.core.display.HTML object>"
      ]
     },
     "metadata": {},
     "output_type": "display_data"
    },
    {
     "data": {
      "text/html": [
       "<div>\n",
       "<style scoped>\n",
       "    .dataframe tbody tr th:only-of-type {\n",
       "        vertical-align: middle;\n",
       "    }\n",
       "\n",
       "    .dataframe tbody tr th {\n",
       "        vertical-align: top;\n",
       "    }\n",
       "\n",
       "    .dataframe thead th {\n",
       "        text-align: right;\n",
       "    }\n",
       "</style>\n",
       "<table border=\"1\" class=\"dataframe\">\n",
       "  <thead>\n",
       "    <tr style=\"text-align: right;\">\n",
       "      <th></th>\n",
       "      <th>période</th>\n",
       "      <th>ARI</th>\n",
       "    </tr>\n",
       "  </thead>\n",
       "  <tbody>\n",
       "    <tr>\n",
       "      <th>0</th>\n",
       "      <td>3</td>\n",
       "      <td>0.330509</td>\n",
       "    </tr>\n",
       "  </tbody>\n",
       "</table>\n",
       "</div>"
      ],
      "text/plain": [
       "   période       ARI\n",
       "0        3  0.330509"
      ]
     },
     "metadata": {},
     "output_type": "display_data"
    },
    {
     "data": {
      "text/html": [
       "<h1>Itération n°2</h1>"
      ],
      "text/plain": [
       "<IPython.core.display.HTML object>"
      ]
     },
     "metadata": {},
     "output_type": "display_data"
    },
    {
     "name": "stdout",
     "output_type": "stream",
     "text": [
      "Création du dataset en cours ...\n",
      "______________________________________________________\n",
      "Features complétées avec la valeur la plus fréquente :\n",
      "______________________________________________________\n",
      "mean_payment_sequential \t 1.0\n",
      "mean_payment_installments \t 1.0\n",
      "mean_review_score \t 5.0\n",
      "mean_delivery_days \t 8.0\n",
      "______________________________________________________\n",
      "Durée d'execution du Feature engineering : 25.01s\n"
     ]
    },
    {
     "data": {
      "text/html": [
       "<h2>Score ARI :</h2>"
      ],
      "text/plain": [
       "<IPython.core.display.HTML object>"
      ]
     },
     "metadata": {},
     "output_type": "display_data"
    },
    {
     "data": {
      "text/html": [
       "<div>\n",
       "<style scoped>\n",
       "    .dataframe tbody tr th:only-of-type {\n",
       "        vertical-align: middle;\n",
       "    }\n",
       "\n",
       "    .dataframe tbody tr th {\n",
       "        vertical-align: top;\n",
       "    }\n",
       "\n",
       "    .dataframe thead th {\n",
       "        text-align: right;\n",
       "    }\n",
       "</style>\n",
       "<table border=\"1\" class=\"dataframe\">\n",
       "  <thead>\n",
       "    <tr style=\"text-align: right;\">\n",
       "      <th></th>\n",
       "      <th>période</th>\n",
       "      <th>ARI</th>\n",
       "    </tr>\n",
       "  </thead>\n",
       "  <tbody>\n",
       "    <tr>\n",
       "      <th>0</th>\n",
       "      <td>6</td>\n",
       "      <td>0.598247</td>\n",
       "    </tr>\n",
       "  </tbody>\n",
       "</table>\n",
       "</div>"
      ],
      "text/plain": [
       "   période       ARI\n",
       "0        6  0.598247"
      ]
     },
     "metadata": {},
     "output_type": "display_data"
    },
    {
     "data": {
      "text/html": [
       "<h1>Itération n°3</h1>"
      ],
      "text/plain": [
       "<IPython.core.display.HTML object>"
      ]
     },
     "metadata": {},
     "output_type": "display_data"
    },
    {
     "name": "stdout",
     "output_type": "stream",
     "text": [
      "Création du dataset en cours ...\n",
      "______________________________________________________\n",
      "Features complétées avec la valeur la plus fréquente :\n",
      "______________________________________________________\n",
      "mean_payment_sequential \t 1.0\n",
      "mean_payment_installments \t 1.0\n",
      "mean_review_score \t 5.0\n",
      "mean_delivery_days \t 7.0\n",
      "______________________________________________________\n",
      "Durée d'execution du Feature engineering : 33.16s\n"
     ]
    },
    {
     "data": {
      "text/html": [
       "<h2>Score ARI :</h2>"
      ],
      "text/plain": [
       "<IPython.core.display.HTML object>"
      ]
     },
     "metadata": {},
     "output_type": "display_data"
    },
    {
     "data": {
      "text/html": [
       "<div>\n",
       "<style scoped>\n",
       "    .dataframe tbody tr th:only-of-type {\n",
       "        vertical-align: middle;\n",
       "    }\n",
       "\n",
       "    .dataframe tbody tr th {\n",
       "        vertical-align: top;\n",
       "    }\n",
       "\n",
       "    .dataframe thead th {\n",
       "        text-align: right;\n",
       "    }\n",
       "</style>\n",
       "<table border=\"1\" class=\"dataframe\">\n",
       "  <thead>\n",
       "    <tr style=\"text-align: right;\">\n",
       "      <th></th>\n",
       "      <th>période</th>\n",
       "      <th>ARI</th>\n",
       "    </tr>\n",
       "  </thead>\n",
       "  <tbody>\n",
       "    <tr>\n",
       "      <th>0</th>\n",
       "      <td>9</td>\n",
       "      <td>0.906737</td>\n",
       "    </tr>\n",
       "  </tbody>\n",
       "</table>\n",
       "</div>"
      ],
      "text/plain": [
       "   période       ARI\n",
       "0        9  0.906737"
      ]
     },
     "metadata": {},
     "output_type": "display_data"
    },
    {
     "data": {
      "text/html": [
       "<h1>Itération n°4</h1>"
      ],
      "text/plain": [
       "<IPython.core.display.HTML object>"
      ]
     },
     "metadata": {},
     "output_type": "display_data"
    },
    {
     "name": "stdout",
     "output_type": "stream",
     "text": [
      "Création du dataset en cours ...\n",
      "______________________________________________________\n",
      "Features complétées avec la valeur la plus fréquente :\n",
      "______________________________________________________\n",
      "mean_payment_sequential \t 1.0\n",
      "mean_payment_installments \t 1.0\n",
      "mean_review_score \t 5.0\n",
      "mean_delivery_days \t 7.0\n",
      "______________________________________________________\n",
      "Durée d'execution du Feature engineering : 40.46s\n"
     ]
    },
    {
     "data": {
      "text/html": [
       "<h2>Score ARI :</h2>"
      ],
      "text/plain": [
       "<IPython.core.display.HTML object>"
      ]
     },
     "metadata": {},
     "output_type": "display_data"
    },
    {
     "data": {
      "text/html": [
       "<div>\n",
       "<style scoped>\n",
       "    .dataframe tbody tr th:only-of-type {\n",
       "        vertical-align: middle;\n",
       "    }\n",
       "\n",
       "    .dataframe tbody tr th {\n",
       "        vertical-align: top;\n",
       "    }\n",
       "\n",
       "    .dataframe thead th {\n",
       "        text-align: right;\n",
       "    }\n",
       "</style>\n",
       "<table border=\"1\" class=\"dataframe\">\n",
       "  <thead>\n",
       "    <tr style=\"text-align: right;\">\n",
       "      <th></th>\n",
       "      <th>période</th>\n",
       "      <th>ARI</th>\n",
       "    </tr>\n",
       "  </thead>\n",
       "  <tbody>\n",
       "    <tr>\n",
       "      <th>0</th>\n",
       "      <td>12</td>\n",
       "      <td>0.612928</td>\n",
       "    </tr>\n",
       "  </tbody>\n",
       "</table>\n",
       "</div>"
      ],
      "text/plain": [
       "   période       ARI\n",
       "0       12  0.612928"
      ]
     },
     "metadata": {},
     "output_type": "display_data"
    },
    {
     "data": {
      "text/html": [
       "<h1>Itération n°5</h1>"
      ],
      "text/plain": [
       "<IPython.core.display.HTML object>"
      ]
     },
     "metadata": {},
     "output_type": "display_data"
    },
    {
     "name": "stdout",
     "output_type": "stream",
     "text": [
      "Création du dataset en cours ...\n",
      "______________________________________________________\n",
      "Features complétées avec la valeur la plus fréquente :\n",
      "______________________________________________________\n",
      "mean_payment_sequential \t 1.0\n",
      "mean_payment_installments \t 1.0\n",
      "mean_review_score \t 5.0\n",
      "mean_delivery_days \t 7.0\n",
      "______________________________________________________\n",
      "Durée d'execution du Feature engineering : 40.44s\n"
     ]
    },
    {
     "data": {
      "text/html": [
       "<h2>Score ARI :</h2>"
      ],
      "text/plain": [
       "<IPython.core.display.HTML object>"
      ]
     },
     "metadata": {},
     "output_type": "display_data"
    },
    {
     "data": {
      "text/html": [
       "<div>\n",
       "<style scoped>\n",
       "    .dataframe tbody tr th:only-of-type {\n",
       "        vertical-align: middle;\n",
       "    }\n",
       "\n",
       "    .dataframe tbody tr th {\n",
       "        vertical-align: top;\n",
       "    }\n",
       "\n",
       "    .dataframe thead th {\n",
       "        text-align: right;\n",
       "    }\n",
       "</style>\n",
       "<table border=\"1\" class=\"dataframe\">\n",
       "  <thead>\n",
       "    <tr style=\"text-align: right;\">\n",
       "      <th></th>\n",
       "      <th>période</th>\n",
       "      <th>ARI</th>\n",
       "    </tr>\n",
       "  </thead>\n",
       "  <tbody>\n",
       "    <tr>\n",
       "      <th>0</th>\n",
       "      <td>15</td>\n",
       "      <td>0.612928</td>\n",
       "    </tr>\n",
       "  </tbody>\n",
       "</table>\n",
       "</div>"
      ],
      "text/plain": [
       "   période       ARI\n",
       "0       15  0.612928"
      ]
     },
     "metadata": {},
     "output_type": "display_data"
    },
    {
     "data": {
      "text/html": [
       "<h1>Itération n°6</h1>"
      ],
      "text/plain": [
       "<IPython.core.display.HTML object>"
      ]
     },
     "metadata": {},
     "output_type": "display_data"
    },
    {
     "name": "stdout",
     "output_type": "stream",
     "text": [
      "Création du dataset en cours ...\n",
      "______________________________________________________\n",
      "Features complétées avec la valeur la plus fréquente :\n",
      "______________________________________________________\n",
      "mean_payment_sequential \t 1.0\n",
      "mean_payment_installments \t 1.0\n",
      "mean_review_score \t 5.0\n",
      "mean_delivery_days \t 7.0\n",
      "______________________________________________________\n",
      "Durée d'execution du Feature engineering : 40.32s\n"
     ]
    },
    {
     "data": {
      "text/html": [
       "<h2>Score ARI :</h2>"
      ],
      "text/plain": [
       "<IPython.core.display.HTML object>"
      ]
     },
     "metadata": {},
     "output_type": "display_data"
    },
    {
     "data": {
      "text/html": [
       "<div>\n",
       "<style scoped>\n",
       "    .dataframe tbody tr th:only-of-type {\n",
       "        vertical-align: middle;\n",
       "    }\n",
       "\n",
       "    .dataframe tbody tr th {\n",
       "        vertical-align: top;\n",
       "    }\n",
       "\n",
       "    .dataframe thead th {\n",
       "        text-align: right;\n",
       "    }\n",
       "</style>\n",
       "<table border=\"1\" class=\"dataframe\">\n",
       "  <thead>\n",
       "    <tr style=\"text-align: right;\">\n",
       "      <th></th>\n",
       "      <th>période</th>\n",
       "      <th>ARI</th>\n",
       "    </tr>\n",
       "  </thead>\n",
       "  <tbody>\n",
       "    <tr>\n",
       "      <th>0</th>\n",
       "      <td>18</td>\n",
       "      <td>0.612748</td>\n",
       "    </tr>\n",
       "  </tbody>\n",
       "</table>\n",
       "</div>"
      ],
      "text/plain": [
       "   période       ARI\n",
       "0       18  0.612748"
      ]
     },
     "metadata": {},
     "output_type": "display_data"
    },
    {
     "data": {
      "text/html": [
       "<h1>Itération n°7</h1>"
      ],
      "text/plain": [
       "<IPython.core.display.HTML object>"
      ]
     },
     "metadata": {},
     "output_type": "display_data"
    },
    {
     "name": "stdout",
     "output_type": "stream",
     "text": [
      "Création du dataset en cours ...\n",
      "______________________________________________________\n",
      "Features complétées avec la valeur la plus fréquente :\n",
      "______________________________________________________\n",
      "mean_payment_sequential \t 1.0\n",
      "mean_payment_installments \t 1.0\n",
      "mean_review_score \t 5.0\n",
      "mean_delivery_days \t 7.0\n",
      "______________________________________________________\n",
      "Durée d'execution du Feature engineering : 40.33s\n"
     ]
    },
    {
     "data": {
      "text/html": [
       "<h2>Score ARI :</h2>"
      ],
      "text/plain": [
       "<IPython.core.display.HTML object>"
      ]
     },
     "metadata": {},
     "output_type": "display_data"
    },
    {
     "data": {
      "text/html": [
       "<div>\n",
       "<style scoped>\n",
       "    .dataframe tbody tr th:only-of-type {\n",
       "        vertical-align: middle;\n",
       "    }\n",
       "\n",
       "    .dataframe tbody tr th {\n",
       "        vertical-align: top;\n",
       "    }\n",
       "\n",
       "    .dataframe thead th {\n",
       "        text-align: right;\n",
       "    }\n",
       "</style>\n",
       "<table border=\"1\" class=\"dataframe\">\n",
       "  <thead>\n",
       "    <tr style=\"text-align: right;\">\n",
       "      <th></th>\n",
       "      <th>période</th>\n",
       "      <th>ARI</th>\n",
       "    </tr>\n",
       "  </thead>\n",
       "  <tbody>\n",
       "    <tr>\n",
       "      <th>0</th>\n",
       "      <td>21</td>\n",
       "      <td>0.612838</td>\n",
       "    </tr>\n",
       "  </tbody>\n",
       "</table>\n",
       "</div>"
      ],
      "text/plain": [
       "   période       ARI\n",
       "0       21  0.612838"
      ]
     },
     "metadata": {},
     "output_type": "display_data"
    },
    {
     "data": {
      "text/html": [
       "<h1>Itération n°8</h1>"
      ],
      "text/plain": [
       "<IPython.core.display.HTML object>"
      ]
     },
     "metadata": {},
     "output_type": "display_data"
    },
    {
     "name": "stdout",
     "output_type": "stream",
     "text": [
      "Création du dataset en cours ...\n",
      "______________________________________________________\n",
      "Features complétées avec la valeur la plus fréquente :\n",
      "______________________________________________________\n",
      "mean_payment_sequential \t 1.0\n",
      "mean_payment_installments \t 1.0\n",
      "mean_review_score \t 5.0\n",
      "mean_delivery_days \t 7.0\n",
      "______________________________________________________\n",
      "Durée d'execution du Feature engineering : 40.19s\n"
     ]
    },
    {
     "data": {
      "text/html": [
       "<h2>Score ARI :</h2>"
      ],
      "text/plain": [
       "<IPython.core.display.HTML object>"
      ]
     },
     "metadata": {},
     "output_type": "display_data"
    },
    {
     "data": {
      "text/html": [
       "<div>\n",
       "<style scoped>\n",
       "    .dataframe tbody tr th:only-of-type {\n",
       "        vertical-align: middle;\n",
       "    }\n",
       "\n",
       "    .dataframe tbody tr th {\n",
       "        vertical-align: top;\n",
       "    }\n",
       "\n",
       "    .dataframe thead th {\n",
       "        text-align: right;\n",
       "    }\n",
       "</style>\n",
       "<table border=\"1\" class=\"dataframe\">\n",
       "  <thead>\n",
       "    <tr style=\"text-align: right;\">\n",
       "      <th></th>\n",
       "      <th>période</th>\n",
       "      <th>ARI</th>\n",
       "    </tr>\n",
       "  </thead>\n",
       "  <tbody>\n",
       "    <tr>\n",
       "      <th>0</th>\n",
       "      <td>24</td>\n",
       "      <td>0.612748</td>\n",
       "    </tr>\n",
       "  </tbody>\n",
       "</table>\n",
       "</div>"
      ],
      "text/plain": [
       "   période       ARI\n",
       "0       24  0.612748"
      ]
     },
     "metadata": {},
     "output_type": "display_data"
    }
   ],
   "source": [
    "ari_score = []\n",
    "i=1\n",
    "K=3\n",
    "for p in np.arange(3,(time_delta+3),3):\n",
    "    display(HTML(\"<h1>Itération n°{}</h1>\".format(i)))\n",
    "    \n",
    "    # Creation du dataset pour la période p\n",
    "    data_period = make_dataset(\n",
    "        dpath=\"./data/\", \n",
    "        initial=False, \n",
    "        period=p\n",
    "    )\n",
    "#     data_period = data_period[numerical_columns]\n",
    "    data_period.drop(columns=products_categories, inplace=True)\n",
    "    data_period = data_period.select_dtypes(include=np.number)\n",
    "    \n",
    "#     # Ne garde que les clients de la période initiale\n",
    "#     data_period = data_period[data_period.index.isin(X_kmeans.index)]\n",
    "    \n",
    "    \n",
    "    # K-Means (pour simuler des conditions réelles, nous entraînons d'abord notre\n",
    "    # algorithme K-means avec les données de tous les clients sur la période couverte)\n",
    "    kmeans_p = Pipeline([(\"preprocessor\", MinMaxScaler()),\n",
    "                         (\"kmeans\", KMeans(K, random_state=1))])\n",
    "    kmeans_p.fit(data_period)\n",
    "    p_labels = kmeans_p.named_steps['kmeans'].labels_\n",
    "    \n",
    "    data_period[\"kmeans_labels\"] = p_labels\n",
    "    \n",
    "    # Puis nous ne conservons que les clients de la période initiale\n",
    "    data_period = data_period[data_period.index.isin(X_init.index)]\n",
    "    \n",
    "    # Calcul du score ARI\n",
    "#     ari_p = adjusted_rand_score(init_labels, kmeans_p[1].labels_)\n",
    "    ari_p = adjusted_rand_score(init_labels, data_period[\"kmeans_labels\"])\n",
    "    ari_score.append([p,ari_p])\n",
    "    \n",
    "    display(HTML(\"<h2>Score ARI :</h2>\"))\n",
    "    to_display = pd.DataFrame({\n",
    "        \"période\": [p],\n",
    "        \"ARI\": [ari_p]\n",
    "    })\n",
    "    display(to_display)\n",
    "    i+=1"
   ]
  },
  {
   "cell_type": "code",
   "execution_count": 167,
   "id": "51e107ec",
   "metadata": {},
   "outputs": [
    {
     "data": {
      "text/html": [
       "<div>\n",
       "<style scoped>\n",
       "    .dataframe tbody tr th:only-of-type {\n",
       "        vertical-align: middle;\n",
       "    }\n",
       "\n",
       "    .dataframe tbody tr th {\n",
       "        vertical-align: top;\n",
       "    }\n",
       "\n",
       "    .dataframe thead th {\n",
       "        text-align: right;\n",
       "    }\n",
       "</style>\n",
       "<table border=\"1\" class=\"dataframe\">\n",
       "  <thead>\n",
       "    <tr style=\"text-align: right;\">\n",
       "      <th></th>\n",
       "      <th>periode</th>\n",
       "      <th>ARI</th>\n",
       "    </tr>\n",
       "  </thead>\n",
       "  <tbody>\n",
       "    <tr>\n",
       "      <th>0</th>\n",
       "      <td>3</td>\n",
       "      <td>0.330509</td>\n",
       "    </tr>\n",
       "    <tr>\n",
       "      <th>1</th>\n",
       "      <td>6</td>\n",
       "      <td>0.598247</td>\n",
       "    </tr>\n",
       "    <tr>\n",
       "      <th>2</th>\n",
       "      <td>9</td>\n",
       "      <td>0.906737</td>\n",
       "    </tr>\n",
       "    <tr>\n",
       "      <th>3</th>\n",
       "      <td>12</td>\n",
       "      <td>0.612928</td>\n",
       "    </tr>\n",
       "    <tr>\n",
       "      <th>4</th>\n",
       "      <td>15</td>\n",
       "      <td>0.612928</td>\n",
       "    </tr>\n",
       "    <tr>\n",
       "      <th>5</th>\n",
       "      <td>18</td>\n",
       "      <td>0.612748</td>\n",
       "    </tr>\n",
       "    <tr>\n",
       "      <th>6</th>\n",
       "      <td>21</td>\n",
       "      <td>0.612838</td>\n",
       "    </tr>\n",
       "    <tr>\n",
       "      <th>7</th>\n",
       "      <td>24</td>\n",
       "      <td>0.612748</td>\n",
       "    </tr>\n",
       "  </tbody>\n",
       "</table>\n",
       "</div>"
      ],
      "text/plain": [
       "   periode       ARI\n",
       "0        3  0.330509\n",
       "1        6  0.598247\n",
       "2        9  0.906737\n",
       "3       12  0.612928\n",
       "4       15  0.612928\n",
       "5       18  0.612748\n",
       "6       21  0.612838\n",
       "7       24  0.612748"
      ]
     },
     "metadata": {},
     "output_type": "display_data"
    },
    {
     "data": {
      "image/png": "[encoded data removed]",
      "text/plain": [
       "<Figure size 1296x648 with 1 Axes>"
      ]
     },
     "metadata": {},
     "output_type": "display_data"
    }
   ],
   "source": [
    "ari_score = pd.DataFrame(ari_score, columns=[\"periode\", \"ARI\"])\n",
    "display(ari_score)\n",
    "\n",
    "# graphique de l'indice de Rand ajousté (ARI)\n",
    "fig = plt.figure(figsize=(18,9))\n",
    "sns.lineplot(data=ari_score, x=\"periode\", y=\"ARI\")\n",
    "plt.xlim(1,time_delta+3)\n",
    "plt.axhline(\n",
    "    y=0.6, \n",
    "    linestyle=\"--\", \n",
    "    color=\"red\",\n",
    "    linewidth=1\n",
    ")\n",
    "for x, y in zip(ari_score[\"periode\"], ari_score[\"ARI\"]):\n",
    "    plt.text(\n",
    "        x = x,\n",
    "        y = y-0.03,\n",
    "        s = \"{:.3f}\".format(y), \n",
    "        color = \"blue\"\n",
    "    )\n",
    "plt.xticks(np.arange(1,time_delta+3,1))\n",
    "plt.xlabel(\"Période (mois)\")\n",
    "plt.ylabel(\"Score ARI\")\n",
    "plt.title(\"Stabilité temporelle de la segmentation par K-Means\",\n",
    "          fontsize=18,\n",
    "          color=\"b\")\n",
    "plt.show()"
   ]
  },
  {
   "cell_type": "markdown",
   "id": "60a7fe14",
   "metadata": {},
   "source": [
    "En réentraînant notre modèle tous les trois mois, l'ARI est généralement en dessous de 0.8, ce qui signifie que les classifications changent de manière significative."
   ]
  },
  {
   "cell_type": "markdown",
   "id": "e8379767",
   "metadata": {},
   "source": [
    "Relançons tout avec un delta d'un mois, afin d'avoir une vision un peu plus fine :"
   ]
  },
  {
   "cell_type": "code",
   "execution_count": 134,
   "id": "739f8db4",
   "metadata": {
    "scrolled": false
   },
   "outputs": [
    {
     "data": {
      "text/html": [
       "<h1>Itération n°1</h1>"
      ],
      "text/plain": [
       "<IPython.core.display.HTML object>"
      ]
     },
     "metadata": {},
     "output_type": "display_data"
    },
    {
     "name": "stdout",
     "output_type": "stream",
     "text": [
      "Création du dataset en cours ...\n",
      "______________________________________________________\n",
      "Features complétées avec la valeur la plus fréquente :\n",
      "______________________________________________________\n",
      "mean_payment_sequential \t 1.0\n",
      "mean_payment_installments \t 1.0\n",
      "mean_review_score \t 5.0\n",
      "mean_delivery_days \t 7.0\n",
      "______________________________________________________\n",
      "Durée d'execution du Feature engineering : 12.57s\n"
     ]
    },
    {
     "data": {
      "text/html": [
       "<h2>Score ARI :</h2>"
      ],
      "text/plain": [
       "<IPython.core.display.HTML object>"
      ]
     },
     "metadata": {},
     "output_type": "display_data"
    },
    {
     "data": {
      "text/html": [
       "<div>\n",
       "<style scoped>\n",
       "    .dataframe tbody tr th:only-of-type {\n",
       "        vertical-align: middle;\n",
       "    }\n",
       "\n",
       "    .dataframe tbody tr th {\n",
       "        vertical-align: top;\n",
       "    }\n",
       "\n",
       "    .dataframe thead th {\n",
       "        text-align: right;\n",
       "    }\n",
       "</style>\n",
       "<table border=\"1\" class=\"dataframe\">\n",
       "  <thead>\n",
       "    <tr style=\"text-align: right;\">\n",
       "      <th></th>\n",
       "      <th>période</th>\n",
       "      <th>ARI</th>\n",
       "    </tr>\n",
       "  </thead>\n",
       "  <tbody>\n",
       "    <tr>\n",
       "      <th>0</th>\n",
       "      <td>1</td>\n",
       "      <td>0.976987</td>\n",
       "    </tr>\n",
       "  </tbody>\n",
       "</table>\n",
       "</div>"
      ],
      "text/plain": [
       "   période       ARI\n",
       "0        1  0.976987"
      ]
     },
     "metadata": {},
     "output_type": "display_data"
    },
    {
     "data": {
      "text/html": [
       "<h1>Itération n°2</h1>"
      ],
      "text/plain": [
       "<IPython.core.display.HTML object>"
      ]
     },
     "metadata": {},
     "output_type": "display_data"
    },
    {
     "name": "stdout",
     "output_type": "stream",
     "text": [
      "Création du dataset en cours ...\n",
      "______________________________________________________\n",
      "Features complétées avec la valeur la plus fréquente :\n",
      "______________________________________________________\n",
      "mean_payment_sequential \t 1.0\n",
      "mean_payment_installments \t 1.0\n",
      "mean_review_score \t 5.0\n",
      "mean_delivery_days \t 7.0\n",
      "______________________________________________________\n",
      "Durée d'execution du Feature engineering : 14.30s\n"
     ]
    },
    {
     "data": {
      "text/html": [
       "<h2>Score ARI :</h2>"
      ],
      "text/plain": [
       "<IPython.core.display.HTML object>"
      ]
     },
     "metadata": {},
     "output_type": "display_data"
    },
    {
     "data": {
      "text/html": [
       "<div>\n",
       "<style scoped>\n",
       "    .dataframe tbody tr th:only-of-type {\n",
       "        vertical-align: middle;\n",
       "    }\n",
       "\n",
       "    .dataframe tbody tr th {\n",
       "        vertical-align: top;\n",
       "    }\n",
       "\n",
       "    .dataframe thead th {\n",
       "        text-align: right;\n",
       "    }\n",
       "</style>\n",
       "<table border=\"1\" class=\"dataframe\">\n",
       "  <thead>\n",
       "    <tr style=\"text-align: right;\">\n",
       "      <th></th>\n",
       "      <th>période</th>\n",
       "      <th>ARI</th>\n",
       "    </tr>\n",
       "  </thead>\n",
       "  <tbody>\n",
       "    <tr>\n",
       "      <th>0</th>\n",
       "      <td>2</td>\n",
       "      <td>0.601614</td>\n",
       "    </tr>\n",
       "  </tbody>\n",
       "</table>\n",
       "</div>"
      ],
      "text/plain": [
       "   période       ARI\n",
       "0        2  0.601614"
      ]
     },
     "metadata": {},
     "output_type": "display_data"
    },
    {
     "data": {
      "text/html": [
       "<h1>Itération n°3</h1>"
      ],
      "text/plain": [
       "<IPython.core.display.HTML object>"
      ]
     },
     "metadata": {},
     "output_type": "display_data"
    },
    {
     "name": "stdout",
     "output_type": "stream",
     "text": [
      "Création du dataset en cours ...\n",
      "______________________________________________________\n",
      "Features complétées avec la valeur la plus fréquente :\n",
      "______________________________________________________\n",
      "mean_payment_sequential \t 1.0\n",
      "mean_payment_installments \t 1.0\n",
      "mean_review_score \t 5.0\n",
      "mean_delivery_days \t 7.0\n",
      "______________________________________________________\n",
      "Durée d'execution du Feature engineering : 17.42s\n"
     ]
    },
    {
     "data": {
      "text/html": [
       "<h2>Score ARI :</h2>"
      ],
      "text/plain": [
       "<IPython.core.display.HTML object>"
      ]
     },
     "metadata": {},
     "output_type": "display_data"
    },
    {
     "data": {
      "text/html": [
       "<div>\n",
       "<style scoped>\n",
       "    .dataframe tbody tr th:only-of-type {\n",
       "        vertical-align: middle;\n",
       "    }\n",
       "\n",
       "    .dataframe tbody tr th {\n",
       "        vertical-align: top;\n",
       "    }\n",
       "\n",
       "    .dataframe thead th {\n",
       "        text-align: right;\n",
       "    }\n",
       "</style>\n",
       "<table border=\"1\" class=\"dataframe\">\n",
       "  <thead>\n",
       "    <tr style=\"text-align: right;\">\n",
       "      <th></th>\n",
       "      <th>période</th>\n",
       "      <th>ARI</th>\n",
       "    </tr>\n",
       "  </thead>\n",
       "  <tbody>\n",
       "    <tr>\n",
       "      <th>0</th>\n",
       "      <td>3</td>\n",
       "      <td>0.330509</td>\n",
       "    </tr>\n",
       "  </tbody>\n",
       "</table>\n",
       "</div>"
      ],
      "text/plain": [
       "   période       ARI\n",
       "0        3  0.330509"
      ]
     },
     "metadata": {},
     "output_type": "display_data"
    },
    {
     "data": {
      "text/html": [
       "<h1>Itération n°4</h1>"
      ],
      "text/plain": [
       "<IPython.core.display.HTML object>"
      ]
     },
     "metadata": {},
     "output_type": "display_data"
    },
    {
     "name": "stdout",
     "output_type": "stream",
     "text": [
      "Création du dataset en cours ...\n",
      "______________________________________________________\n",
      "Features complétées avec la valeur la plus fréquente :\n",
      "______________________________________________________\n",
      "mean_payment_sequential \t 1.0\n",
      "mean_payment_installments \t 1.0\n",
      "mean_review_score \t 5.0\n",
      "mean_delivery_days \t 8.0\n",
      "______________________________________________________\n",
      "Durée d'execution du Feature engineering : 19.53s\n"
     ]
    },
    {
     "data": {
      "text/html": [
       "<h2>Score ARI :</h2>"
      ],
      "text/plain": [
       "<IPython.core.display.HTML object>"
      ]
     },
     "metadata": {},
     "output_type": "display_data"
    },
    {
     "data": {
      "text/html": [
       "<div>\n",
       "<style scoped>\n",
       "    .dataframe tbody tr th:only-of-type {\n",
       "        vertical-align: middle;\n",
       "    }\n",
       "\n",
       "    .dataframe tbody tr th {\n",
       "        vertical-align: top;\n",
       "    }\n",
       "\n",
       "    .dataframe thead th {\n",
       "        text-align: right;\n",
       "    }\n",
       "</style>\n",
       "<table border=\"1\" class=\"dataframe\">\n",
       "  <thead>\n",
       "    <tr style=\"text-align: right;\">\n",
       "      <th></th>\n",
       "      <th>période</th>\n",
       "      <th>ARI</th>\n",
       "    </tr>\n",
       "  </thead>\n",
       "  <tbody>\n",
       "    <tr>\n",
       "      <th>0</th>\n",
       "      <td>4</td>\n",
       "      <td>0.298755</td>\n",
       "    </tr>\n",
       "  </tbody>\n",
       "</table>\n",
       "</div>"
      ],
      "text/plain": [
       "   période       ARI\n",
       "0        4  0.298755"
      ]
     },
     "metadata": {},
     "output_type": "display_data"
    },
    {
     "data": {
      "text/html": [
       "<h1>Itération n°5</h1>"
      ],
      "text/plain": [
       "<IPython.core.display.HTML object>"
      ]
     },
     "metadata": {},
     "output_type": "display_data"
    },
    {
     "name": "stdout",
     "output_type": "stream",
     "text": [
      "Création du dataset en cours ...\n",
      "______________________________________________________\n",
      "Features complétées avec la valeur la plus fréquente :\n",
      "______________________________________________________\n",
      "mean_payment_sequential \t 1.0\n",
      "mean_payment_installments \t 1.0\n",
      "mean_review_score \t 5.0\n",
      "mean_delivery_days \t 7.0\n",
      "______________________________________________________\n",
      "Durée d'execution du Feature engineering : 22.36s\n"
     ]
    },
    {
     "data": {
      "text/html": [
       "<h2>Score ARI :</h2>"
      ],
      "text/plain": [
       "<IPython.core.display.HTML object>"
      ]
     },
     "metadata": {},
     "output_type": "display_data"
    },
    {
     "data": {
      "text/html": [
       "<div>\n",
       "<style scoped>\n",
       "    .dataframe tbody tr th:only-of-type {\n",
       "        vertical-align: middle;\n",
       "    }\n",
       "\n",
       "    .dataframe tbody tr th {\n",
       "        vertical-align: top;\n",
       "    }\n",
       "\n",
       "    .dataframe thead th {\n",
       "        text-align: right;\n",
       "    }\n",
       "</style>\n",
       "<table border=\"1\" class=\"dataframe\">\n",
       "  <thead>\n",
       "    <tr style=\"text-align: right;\">\n",
       "      <th></th>\n",
       "      <th>période</th>\n",
       "      <th>ARI</th>\n",
       "    </tr>\n",
       "  </thead>\n",
       "  <tbody>\n",
       "    <tr>\n",
       "      <th>0</th>\n",
       "      <td>5</td>\n",
       "      <td>0.576814</td>\n",
       "    </tr>\n",
       "  </tbody>\n",
       "</table>\n",
       "</div>"
      ],
      "text/plain": [
       "   période       ARI\n",
       "0        5  0.576814"
      ]
     },
     "metadata": {},
     "output_type": "display_data"
    },
    {
     "data": {
      "text/html": [
       "<h1>Itération n°6</h1>"
      ],
      "text/plain": [
       "<IPython.core.display.HTML object>"
      ]
     },
     "metadata": {},
     "output_type": "display_data"
    },
    {
     "name": "stdout",
     "output_type": "stream",
     "text": [
      "Création du dataset en cours ...\n",
      "______________________________________________________\n",
      "Features complétées avec la valeur la plus fréquente :\n",
      "______________________________________________________\n",
      "mean_payment_sequential \t 1.0\n",
      "mean_payment_installments \t 1.0\n",
      "mean_review_score \t 5.0\n",
      "mean_delivery_days \t 8.0\n",
      "______________________________________________________\n",
      "Durée d'execution du Feature engineering : 25.08s\n"
     ]
    },
    {
     "data": {
      "text/html": [
       "<h2>Score ARI :</h2>"
      ],
      "text/plain": [
       "<IPython.core.display.HTML object>"
      ]
     },
     "metadata": {},
     "output_type": "display_data"
    },
    {
     "data": {
      "text/html": [
       "<div>\n",
       "<style scoped>\n",
       "    .dataframe tbody tr th:only-of-type {\n",
       "        vertical-align: middle;\n",
       "    }\n",
       "\n",
       "    .dataframe tbody tr th {\n",
       "        vertical-align: top;\n",
       "    }\n",
       "\n",
       "    .dataframe thead th {\n",
       "        text-align: right;\n",
       "    }\n",
       "</style>\n",
       "<table border=\"1\" class=\"dataframe\">\n",
       "  <thead>\n",
       "    <tr style=\"text-align: right;\">\n",
       "      <th></th>\n",
       "      <th>période</th>\n",
       "      <th>ARI</th>\n",
       "    </tr>\n",
       "  </thead>\n",
       "  <tbody>\n",
       "    <tr>\n",
       "      <th>0</th>\n",
       "      <td>6</td>\n",
       "      <td>0.598247</td>\n",
       "    </tr>\n",
       "  </tbody>\n",
       "</table>\n",
       "</div>"
      ],
      "text/plain": [
       "   période       ARI\n",
       "0        6  0.598247"
      ]
     },
     "metadata": {},
     "output_type": "display_data"
    },
    {
     "data": {
      "text/html": [
       "<h1>Itération n°7</h1>"
      ],
      "text/plain": [
       "<IPython.core.display.HTML object>"
      ]
     },
     "metadata": {},
     "output_type": "display_data"
    },
    {
     "name": "stdout",
     "output_type": "stream",
     "text": [
      "Création du dataset en cours ...\n",
      "______________________________________________________\n",
      "Features complétées avec la valeur la plus fréquente :\n",
      "______________________________________________________\n",
      "mean_payment_sequential \t 1.0\n",
      "mean_payment_installments \t 1.0\n",
      "mean_review_score \t 5.0\n",
      "mean_delivery_days \t 7.0\n",
      "______________________________________________________\n",
      "Durée d'execution du Feature engineering : 27.80s\n"
     ]
    },
    {
     "data": {
      "text/html": [
       "<h2>Score ARI :</h2>"
      ],
      "text/plain": [
       "<IPython.core.display.HTML object>"
      ]
     },
     "metadata": {},
     "output_type": "display_data"
    },
    {
     "data": {
      "text/html": [
       "<div>\n",
       "<style scoped>\n",
       "    .dataframe tbody tr th:only-of-type {\n",
       "        vertical-align: middle;\n",
       "    }\n",
       "\n",
       "    .dataframe tbody tr th {\n",
       "        vertical-align: top;\n",
       "    }\n",
       "\n",
       "    .dataframe thead th {\n",
       "        text-align: right;\n",
       "    }\n",
       "</style>\n",
       "<table border=\"1\" class=\"dataframe\">\n",
       "  <thead>\n",
       "    <tr style=\"text-align: right;\">\n",
       "      <th></th>\n",
       "      <th>période</th>\n",
       "      <th>ARI</th>\n",
       "    </tr>\n",
       "  </thead>\n",
       "  <tbody>\n",
       "    <tr>\n",
       "      <th>0</th>\n",
       "      <td>7</td>\n",
       "      <td>0.621376</td>\n",
       "    </tr>\n",
       "  </tbody>\n",
       "</table>\n",
       "</div>"
      ],
      "text/plain": [
       "   période       ARI\n",
       "0        7  0.621376"
      ]
     },
     "metadata": {},
     "output_type": "display_data"
    },
    {
     "data": {
      "text/html": [
       "<h1>Itération n°8</h1>"
      ],
      "text/plain": [
       "<IPython.core.display.HTML object>"
      ]
     },
     "metadata": {},
     "output_type": "display_data"
    },
    {
     "name": "stdout",
     "output_type": "stream",
     "text": [
      "Création du dataset en cours ...\n",
      "______________________________________________________\n",
      "Features complétées avec la valeur la plus fréquente :\n",
      "______________________________________________________\n",
      "mean_payment_sequential \t 1.0\n",
      "mean_payment_installments \t 1.0\n",
      "mean_review_score \t 5.0\n",
      "mean_delivery_days \t 7.0\n",
      "______________________________________________________\n",
      "Durée d'execution du Feature engineering : 30.69s\n"
     ]
    },
    {
     "data": {
      "text/html": [
       "<h2>Score ARI :</h2>"
      ],
      "text/plain": [
       "<IPython.core.display.HTML object>"
      ]
     },
     "metadata": {},
     "output_type": "display_data"
    },
    {
     "data": {
      "text/html": [
       "<div>\n",
       "<style scoped>\n",
       "    .dataframe tbody tr th:only-of-type {\n",
       "        vertical-align: middle;\n",
       "    }\n",
       "\n",
       "    .dataframe tbody tr th {\n",
       "        vertical-align: top;\n",
       "    }\n",
       "\n",
       "    .dataframe thead th {\n",
       "        text-align: right;\n",
       "    }\n",
       "</style>\n",
       "<table border=\"1\" class=\"dataframe\">\n",
       "  <thead>\n",
       "    <tr style=\"text-align: right;\">\n",
       "      <th></th>\n",
       "      <th>période</th>\n",
       "      <th>ARI</th>\n",
       "    </tr>\n",
       "  </thead>\n",
       "  <tbody>\n",
       "    <tr>\n",
       "      <th>0</th>\n",
       "      <td>8</td>\n",
       "      <td>0.94054</td>\n",
       "    </tr>\n",
       "  </tbody>\n",
       "</table>\n",
       "</div>"
      ],
      "text/plain": [
       "   période      ARI\n",
       "0        8  0.94054"
      ]
     },
     "metadata": {},
     "output_type": "display_data"
    },
    {
     "data": {
      "text/html": [
       "<h1>Itération n°9</h1>"
      ],
      "text/plain": [
       "<IPython.core.display.HTML object>"
      ]
     },
     "metadata": {},
     "output_type": "display_data"
    },
    {
     "name": "stdout",
     "output_type": "stream",
     "text": [
      "Création du dataset en cours ...\n",
      "______________________________________________________\n",
      "Features complétées avec la valeur la plus fréquente :\n",
      "______________________________________________________\n",
      "mean_payment_sequential \t 1.0\n",
      "mean_payment_installments \t 1.0\n",
      "mean_review_score \t 5.0\n",
      "mean_delivery_days \t 7.0\n",
      "______________________________________________________\n",
      "Durée d'execution du Feature engineering : 33.15s\n"
     ]
    },
    {
     "data": {
      "text/html": [
       "<h2>Score ARI :</h2>"
      ],
      "text/plain": [
       "<IPython.core.display.HTML object>"
      ]
     },
     "metadata": {},
     "output_type": "display_data"
    },
    {
     "data": {
      "text/html": [
       "<div>\n",
       "<style scoped>\n",
       "    .dataframe tbody tr th:only-of-type {\n",
       "        vertical-align: middle;\n",
       "    }\n",
       "\n",
       "    .dataframe tbody tr th {\n",
       "        vertical-align: top;\n",
       "    }\n",
       "\n",
       "    .dataframe thead th {\n",
       "        text-align: right;\n",
       "    }\n",
       "</style>\n",
       "<table border=\"1\" class=\"dataframe\">\n",
       "  <thead>\n",
       "    <tr style=\"text-align: right;\">\n",
       "      <th></th>\n",
       "      <th>période</th>\n",
       "      <th>ARI</th>\n",
       "    </tr>\n",
       "  </thead>\n",
       "  <tbody>\n",
       "    <tr>\n",
       "      <th>0</th>\n",
       "      <td>9</td>\n",
       "      <td>0.906737</td>\n",
       "    </tr>\n",
       "  </tbody>\n",
       "</table>\n",
       "</div>"
      ],
      "text/plain": [
       "   période       ARI\n",
       "0        9  0.906737"
      ]
     },
     "metadata": {},
     "output_type": "display_data"
    },
    {
     "data": {
      "text/html": [
       "<h1>Itération n°10</h1>"
      ],
      "text/plain": [
       "<IPython.core.display.HTML object>"
      ]
     },
     "metadata": {},
     "output_type": "display_data"
    },
    {
     "name": "stdout",
     "output_type": "stream",
     "text": [
      "Création du dataset en cours ...\n",
      "______________________________________________________\n",
      "Features complétées avec la valeur la plus fréquente :\n",
      "______________________________________________________\n",
      "mean_payment_sequential \t 1.0\n",
      "mean_payment_installments \t 1.0\n",
      "mean_review_score \t 5.0\n",
      "mean_delivery_days \t 7.0\n",
      "______________________________________________________\n",
      "Durée d'execution du Feature engineering : 35.43s\n"
     ]
    },
    {
     "data": {
      "text/html": [
       "<h2>Score ARI :</h2>"
      ],
      "text/plain": [
       "<IPython.core.display.HTML object>"
      ]
     },
     "metadata": {},
     "output_type": "display_data"
    },
    {
     "data": {
      "text/html": [
       "<div>\n",
       "<style scoped>\n",
       "    .dataframe tbody tr th:only-of-type {\n",
       "        vertical-align: middle;\n",
       "    }\n",
       "\n",
       "    .dataframe tbody tr th {\n",
       "        vertical-align: top;\n",
       "    }\n",
       "\n",
       "    .dataframe thead th {\n",
       "        text-align: right;\n",
       "    }\n",
       "</style>\n",
       "<table border=\"1\" class=\"dataframe\">\n",
       "  <thead>\n",
       "    <tr style=\"text-align: right;\">\n",
       "      <th></th>\n",
       "      <th>période</th>\n",
       "      <th>ARI</th>\n",
       "    </tr>\n",
       "  </thead>\n",
       "  <tbody>\n",
       "    <tr>\n",
       "      <th>0</th>\n",
       "      <td>10</td>\n",
       "      <td>0.881846</td>\n",
       "    </tr>\n",
       "  </tbody>\n",
       "</table>\n",
       "</div>"
      ],
      "text/plain": [
       "   période       ARI\n",
       "0       10  0.881846"
      ]
     },
     "metadata": {},
     "output_type": "display_data"
    },
    {
     "data": {
      "text/html": [
       "<h1>Itération n°11</h1>"
      ],
      "text/plain": [
       "<IPython.core.display.HTML object>"
      ]
     },
     "metadata": {},
     "output_type": "display_data"
    },
    {
     "name": "stdout",
     "output_type": "stream",
     "text": [
      "Création du dataset en cours ...\n",
      "______________________________________________________\n",
      "Features complétées avec la valeur la plus fréquente :\n",
      "______________________________________________________\n",
      "mean_payment_sequential \t 1.0\n",
      "mean_payment_installments \t 1.0\n",
      "mean_review_score \t 5.0\n",
      "mean_delivery_days \t 7.0\n",
      "______________________________________________________\n",
      "Durée d'execution du Feature engineering : 38.38s\n"
     ]
    },
    {
     "data": {
      "text/html": [
       "<h2>Score ARI :</h2>"
      ],
      "text/plain": [
       "<IPython.core.display.HTML object>"
      ]
     },
     "metadata": {},
     "output_type": "display_data"
    },
    {
     "data": {
      "text/html": [
       "<div>\n",
       "<style scoped>\n",
       "    .dataframe tbody tr th:only-of-type {\n",
       "        vertical-align: middle;\n",
       "    }\n",
       "\n",
       "    .dataframe tbody tr th {\n",
       "        vertical-align: top;\n",
       "    }\n",
       "\n",
       "    .dataframe thead th {\n",
       "        text-align: right;\n",
       "    }\n",
       "</style>\n",
       "<table border=\"1\" class=\"dataframe\">\n",
       "  <thead>\n",
       "    <tr style=\"text-align: right;\">\n",
       "      <th></th>\n",
       "      <th>période</th>\n",
       "      <th>ARI</th>\n",
       "    </tr>\n",
       "  </thead>\n",
       "  <tbody>\n",
       "    <tr>\n",
       "      <th>0</th>\n",
       "      <td>11</td>\n",
       "      <td>0.86458</td>\n",
       "    </tr>\n",
       "  </tbody>\n",
       "</table>\n",
       "</div>"
      ],
      "text/plain": [
       "   période      ARI\n",
       "0       11  0.86458"
      ]
     },
     "metadata": {},
     "output_type": "display_data"
    },
    {
     "data": {
      "text/html": [
       "<h1>Itération n°12</h1>"
      ],
      "text/plain": [
       "<IPython.core.display.HTML object>"
      ]
     },
     "metadata": {},
     "output_type": "display_data"
    },
    {
     "name": "stdout",
     "output_type": "stream",
     "text": [
      "Création du dataset en cours ...\n",
      "______________________________________________________\n",
      "Features complétées avec la valeur la plus fréquente :\n",
      "______________________________________________________\n",
      "mean_payment_sequential \t 1.0\n",
      "mean_payment_installments \t 1.0\n",
      "mean_review_score \t 5.0\n",
      "mean_delivery_days \t 7.0\n",
      "______________________________________________________\n",
      "Durée d'execution du Feature engineering : 40.35s\n"
     ]
    },
    {
     "data": {
      "text/html": [
       "<h2>Score ARI :</h2>"
      ],
      "text/plain": [
       "<IPython.core.display.HTML object>"
      ]
     },
     "metadata": {},
     "output_type": "display_data"
    },
    {
     "data": {
      "text/html": [
       "<div>\n",
       "<style scoped>\n",
       "    .dataframe tbody tr th:only-of-type {\n",
       "        vertical-align: middle;\n",
       "    }\n",
       "\n",
       "    .dataframe tbody tr th {\n",
       "        vertical-align: top;\n",
       "    }\n",
       "\n",
       "    .dataframe thead th {\n",
       "        text-align: right;\n",
       "    }\n",
       "</style>\n",
       "<table border=\"1\" class=\"dataframe\">\n",
       "  <thead>\n",
       "    <tr style=\"text-align: right;\">\n",
       "      <th></th>\n",
       "      <th>période</th>\n",
       "      <th>ARI</th>\n",
       "    </tr>\n",
       "  </thead>\n",
       "  <tbody>\n",
       "    <tr>\n",
       "      <th>0</th>\n",
       "      <td>12</td>\n",
       "      <td>0.612928</td>\n",
       "    </tr>\n",
       "  </tbody>\n",
       "</table>\n",
       "</div>"
      ],
      "text/plain": [
       "   période       ARI\n",
       "0       12  0.612928"
      ]
     },
     "metadata": {},
     "output_type": "display_data"
    },
    {
     "data": {
      "text/html": [
       "<h1>Itération n°13</h1>"
      ],
      "text/plain": [
       "<IPython.core.display.HTML object>"
      ]
     },
     "metadata": {},
     "output_type": "display_data"
    },
    {
     "name": "stdout",
     "output_type": "stream",
     "text": [
      "Création du dataset en cours ...\n",
      "______________________________________________________\n",
      "Features complétées avec la valeur la plus fréquente :\n",
      "______________________________________________________\n",
      "mean_payment_sequential \t 1.0\n",
      "mean_payment_installments \t 1.0\n",
      "mean_review_score \t 5.0\n",
      "mean_delivery_days \t 7.0\n",
      "______________________________________________________\n",
      "Durée d'execution du Feature engineering : 40.36s\n"
     ]
    },
    {
     "data": {
      "text/html": [
       "<h2>Score ARI :</h2>"
      ],
      "text/plain": [
       "<IPython.core.display.HTML object>"
      ]
     },
     "metadata": {},
     "output_type": "display_data"
    },
    {
     "data": {
      "text/html": [
       "<div>\n",
       "<style scoped>\n",
       "    .dataframe tbody tr th:only-of-type {\n",
       "        vertical-align: middle;\n",
       "    }\n",
       "\n",
       "    .dataframe tbody tr th {\n",
       "        vertical-align: top;\n",
       "    }\n",
       "\n",
       "    .dataframe thead th {\n",
       "        text-align: right;\n",
       "    }\n",
       "</style>\n",
       "<table border=\"1\" class=\"dataframe\">\n",
       "  <thead>\n",
       "    <tr style=\"text-align: right;\">\n",
       "      <th></th>\n",
       "      <th>période</th>\n",
       "      <th>ARI</th>\n",
       "    </tr>\n",
       "  </thead>\n",
       "  <tbody>\n",
       "    <tr>\n",
       "      <th>0</th>\n",
       "      <td>13</td>\n",
       "      <td>0.612928</td>\n",
       "    </tr>\n",
       "  </tbody>\n",
       "</table>\n",
       "</div>"
      ],
      "text/plain": [
       "   période       ARI\n",
       "0       13  0.612928"
      ]
     },
     "metadata": {},
     "output_type": "display_data"
    },
    {
     "data": {
      "text/html": [
       "<h1>Itération n°14</h1>"
      ],
      "text/plain": [
       "<IPython.core.display.HTML object>"
      ]
     },
     "metadata": {},
     "output_type": "display_data"
    },
    {
     "name": "stdout",
     "output_type": "stream",
     "text": [
      "Création du dataset en cours ...\n",
      "______________________________________________________\n",
      "Features complétées avec la valeur la plus fréquente :\n",
      "______________________________________________________\n",
      "mean_payment_sequential \t 1.0\n",
      "mean_payment_installments \t 1.0\n",
      "mean_review_score \t 5.0\n",
      "mean_delivery_days \t 7.0\n",
      "______________________________________________________\n",
      "Durée d'execution du Feature engineering : 40.13s\n"
     ]
    },
    {
     "data": {
      "text/html": [
       "<h2>Score ARI :</h2>"
      ],
      "text/plain": [
       "<IPython.core.display.HTML object>"
      ]
     },
     "metadata": {},
     "output_type": "display_data"
    },
    {
     "data": {
      "text/html": [
       "<div>\n",
       "<style scoped>\n",
       "    .dataframe tbody tr th:only-of-type {\n",
       "        vertical-align: middle;\n",
       "    }\n",
       "\n",
       "    .dataframe tbody tr th {\n",
       "        vertical-align: top;\n",
       "    }\n",
       "\n",
       "    .dataframe thead th {\n",
       "        text-align: right;\n",
       "    }\n",
       "</style>\n",
       "<table border=\"1\" class=\"dataframe\">\n",
       "  <thead>\n",
       "    <tr style=\"text-align: right;\">\n",
       "      <th></th>\n",
       "      <th>période</th>\n",
       "      <th>ARI</th>\n",
       "    </tr>\n",
       "  </thead>\n",
       "  <tbody>\n",
       "    <tr>\n",
       "      <th>0</th>\n",
       "      <td>14</td>\n",
       "      <td>0.612928</td>\n",
       "    </tr>\n",
       "  </tbody>\n",
       "</table>\n",
       "</div>"
      ],
      "text/plain": [
       "   période       ARI\n",
       "0       14  0.612928"
      ]
     },
     "metadata": {},
     "output_type": "display_data"
    },
    {
     "data": {
      "text/html": [
       "<h1>Itération n°15</h1>"
      ],
      "text/plain": [
       "<IPython.core.display.HTML object>"
      ]
     },
     "metadata": {},
     "output_type": "display_data"
    },
    {
     "name": "stdout",
     "output_type": "stream",
     "text": [
      "Création du dataset en cours ...\n",
      "______________________________________________________\n",
      "Features complétées avec la valeur la plus fréquente :\n",
      "______________________________________________________\n",
      "mean_payment_sequential \t 1.0\n",
      "mean_payment_installments \t 1.0\n",
      "mean_review_score \t 5.0\n",
      "mean_delivery_days \t 7.0\n",
      "______________________________________________________\n",
      "Durée d'execution du Feature engineering : 40.12s\n"
     ]
    },
    {
     "data": {
      "text/html": [
       "<h2>Score ARI :</h2>"
      ],
      "text/plain": [
       "<IPython.core.display.HTML object>"
      ]
     },
     "metadata": {},
     "output_type": "display_data"
    },
    {
     "data": {
      "text/html": [
       "<div>\n",
       "<style scoped>\n",
       "    .dataframe tbody tr th:only-of-type {\n",
       "        vertical-align: middle;\n",
       "    }\n",
       "\n",
       "    .dataframe tbody tr th {\n",
       "        vertical-align: top;\n",
       "    }\n",
       "\n",
       "    .dataframe thead th {\n",
       "        text-align: right;\n",
       "    }\n",
       "</style>\n",
       "<table border=\"1\" class=\"dataframe\">\n",
       "  <thead>\n",
       "    <tr style=\"text-align: right;\">\n",
       "      <th></th>\n",
       "      <th>période</th>\n",
       "      <th>ARI</th>\n",
       "    </tr>\n",
       "  </thead>\n",
       "  <tbody>\n",
       "    <tr>\n",
       "      <th>0</th>\n",
       "      <td>15</td>\n",
       "      <td>0.612928</td>\n",
       "    </tr>\n",
       "  </tbody>\n",
       "</table>\n",
       "</div>"
      ],
      "text/plain": [
       "   période       ARI\n",
       "0       15  0.612928"
      ]
     },
     "metadata": {},
     "output_type": "display_data"
    },
    {
     "data": {
      "text/html": [
       "<h1>Itération n°16</h1>"
      ],
      "text/plain": [
       "<IPython.core.display.HTML object>"
      ]
     },
     "metadata": {},
     "output_type": "display_data"
    },
    {
     "name": "stdout",
     "output_type": "stream",
     "text": [
      "Création du dataset en cours ...\n",
      "______________________________________________________\n",
      "Features complétées avec la valeur la plus fréquente :\n",
      "______________________________________________________\n",
      "mean_payment_sequential \t 1.0\n",
      "mean_payment_installments \t 1.0\n",
      "mean_review_score \t 5.0\n",
      "mean_delivery_days \t 7.0\n",
      "______________________________________________________\n",
      "Durée d'execution du Feature engineering : 40.27s\n"
     ]
    },
    {
     "data": {
      "text/html": [
       "<h2>Score ARI :</h2>"
      ],
      "text/plain": [
       "<IPython.core.display.HTML object>"
      ]
     },
     "metadata": {},
     "output_type": "display_data"
    },
    {
     "data": {
      "text/html": [
       "<div>\n",
       "<style scoped>\n",
       "    .dataframe tbody tr th:only-of-type {\n",
       "        vertical-align: middle;\n",
       "    }\n",
       "\n",
       "    .dataframe tbody tr th {\n",
       "        vertical-align: top;\n",
       "    }\n",
       "\n",
       "    .dataframe thead th {\n",
       "        text-align: right;\n",
       "    }\n",
       "</style>\n",
       "<table border=\"1\" class=\"dataframe\">\n",
       "  <thead>\n",
       "    <tr style=\"text-align: right;\">\n",
       "      <th></th>\n",
       "      <th>période</th>\n",
       "      <th>ARI</th>\n",
       "    </tr>\n",
       "  </thead>\n",
       "  <tbody>\n",
       "    <tr>\n",
       "      <th>0</th>\n",
       "      <td>16</td>\n",
       "      <td>0.612928</td>\n",
       "    </tr>\n",
       "  </tbody>\n",
       "</table>\n",
       "</div>"
      ],
      "text/plain": [
       "   période       ARI\n",
       "0       16  0.612928"
      ]
     },
     "metadata": {},
     "output_type": "display_data"
    },
    {
     "data": {
      "text/html": [
       "<h1>Itération n°17</h1>"
      ],
      "text/plain": [
       "<IPython.core.display.HTML object>"
      ]
     },
     "metadata": {},
     "output_type": "display_data"
    },
    {
     "name": "stdout",
     "output_type": "stream",
     "text": [
      "Création du dataset en cours ...\n",
      "______________________________________________________\n",
      "Features complétées avec la valeur la plus fréquente :\n",
      "______________________________________________________\n",
      "mean_payment_sequential \t 1.0\n",
      "mean_payment_installments \t 1.0\n",
      "mean_review_score \t 5.0\n",
      "mean_delivery_days \t 7.0\n",
      "______________________________________________________\n",
      "Durée d'execution du Feature engineering : 40.91s\n"
     ]
    },
    {
     "data": {
      "text/html": [
       "<h2>Score ARI :</h2>"
      ],
      "text/plain": [
       "<IPython.core.display.HTML object>"
      ]
     },
     "metadata": {},
     "output_type": "display_data"
    },
    {
     "data": {
      "text/html": [
       "<div>\n",
       "<style scoped>\n",
       "    .dataframe tbody tr th:only-of-type {\n",
       "        vertical-align: middle;\n",
       "    }\n",
       "\n",
       "    .dataframe tbody tr th {\n",
       "        vertical-align: top;\n",
       "    }\n",
       "\n",
       "    .dataframe thead th {\n",
       "        text-align: right;\n",
       "    }\n",
       "</style>\n",
       "<table border=\"1\" class=\"dataframe\">\n",
       "  <thead>\n",
       "    <tr style=\"text-align: right;\">\n",
       "      <th></th>\n",
       "      <th>période</th>\n",
       "      <th>ARI</th>\n",
       "    </tr>\n",
       "  </thead>\n",
       "  <tbody>\n",
       "    <tr>\n",
       "      <th>0</th>\n",
       "      <td>17</td>\n",
       "      <td>0.612748</td>\n",
       "    </tr>\n",
       "  </tbody>\n",
       "</table>\n",
       "</div>"
      ],
      "text/plain": [
       "   période       ARI\n",
       "0       17  0.612748"
      ]
     },
     "metadata": {},
     "output_type": "display_data"
    },
    {
     "data": {
      "text/html": [
       "<h1>Itération n°18</h1>"
      ],
      "text/plain": [
       "<IPython.core.display.HTML object>"
      ]
     },
     "metadata": {},
     "output_type": "display_data"
    },
    {
     "name": "stdout",
     "output_type": "stream",
     "text": [
      "Création du dataset en cours ...\n",
      "______________________________________________________\n",
      "Features complétées avec la valeur la plus fréquente :\n",
      "______________________________________________________\n",
      "mean_payment_sequential \t 1.0\n",
      "mean_payment_installments \t 1.0\n",
      "mean_review_score \t 5.0\n",
      "mean_delivery_days \t 7.0\n",
      "______________________________________________________\n",
      "Durée d'execution du Feature engineering : 40.67s\n"
     ]
    },
    {
     "data": {
      "text/html": [
       "<h2>Score ARI :</h2>"
      ],
      "text/plain": [
       "<IPython.core.display.HTML object>"
      ]
     },
     "metadata": {},
     "output_type": "display_data"
    },
    {
     "data": {
      "text/html": [
       "<div>\n",
       "<style scoped>\n",
       "    .dataframe tbody tr th:only-of-type {\n",
       "        vertical-align: middle;\n",
       "    }\n",
       "\n",
       "    .dataframe tbody tr th {\n",
       "        vertical-align: top;\n",
       "    }\n",
       "\n",
       "    .dataframe thead th {\n",
       "        text-align: right;\n",
       "    }\n",
       "</style>\n",
       "<table border=\"1\" class=\"dataframe\">\n",
       "  <thead>\n",
       "    <tr style=\"text-align: right;\">\n",
       "      <th></th>\n",
       "      <th>période</th>\n",
       "      <th>ARI</th>\n",
       "    </tr>\n",
       "  </thead>\n",
       "  <tbody>\n",
       "    <tr>\n",
       "      <th>0</th>\n",
       "      <td>18</td>\n",
       "      <td>0.612748</td>\n",
       "    </tr>\n",
       "  </tbody>\n",
       "</table>\n",
       "</div>"
      ],
      "text/plain": [
       "   période       ARI\n",
       "0       18  0.612748"
      ]
     },
     "metadata": {},
     "output_type": "display_data"
    },
    {
     "data": {
      "text/html": [
       "<h1>Itération n°19</h1>"
      ],
      "text/plain": [
       "<IPython.core.display.HTML object>"
      ]
     },
     "metadata": {},
     "output_type": "display_data"
    },
    {
     "name": "stdout",
     "output_type": "stream",
     "text": [
      "Création du dataset en cours ...\n",
      "______________________________________________________\n",
      "Features complétées avec la valeur la plus fréquente :\n",
      "______________________________________________________\n",
      "mean_payment_sequential \t 1.0\n",
      "mean_payment_installments \t 1.0\n",
      "mean_review_score \t 5.0\n",
      "mean_delivery_days \t 7.0\n",
      "______________________________________________________\n",
      "Durée d'execution du Feature engineering : 40.75s\n"
     ]
    },
    {
     "data": {
      "text/html": [
       "<h2>Score ARI :</h2>"
      ],
      "text/plain": [
       "<IPython.core.display.HTML object>"
      ]
     },
     "metadata": {},
     "output_type": "display_data"
    },
    {
     "data": {
      "text/html": [
       "<div>\n",
       "<style scoped>\n",
       "    .dataframe tbody tr th:only-of-type {\n",
       "        vertical-align: middle;\n",
       "    }\n",
       "\n",
       "    .dataframe tbody tr th {\n",
       "        vertical-align: top;\n",
       "    }\n",
       "\n",
       "    .dataframe thead th {\n",
       "        text-align: right;\n",
       "    }\n",
       "</style>\n",
       "<table border=\"1\" class=\"dataframe\">\n",
       "  <thead>\n",
       "    <tr style=\"text-align: right;\">\n",
       "      <th></th>\n",
       "      <th>période</th>\n",
       "      <th>ARI</th>\n",
       "    </tr>\n",
       "  </thead>\n",
       "  <tbody>\n",
       "    <tr>\n",
       "      <th>0</th>\n",
       "      <td>19</td>\n",
       "      <td>0.612838</td>\n",
       "    </tr>\n",
       "  </tbody>\n",
       "</table>\n",
       "</div>"
      ],
      "text/plain": [
       "   période       ARI\n",
       "0       19  0.612838"
      ]
     },
     "metadata": {},
     "output_type": "display_data"
    },
    {
     "data": {
      "text/html": [
       "<h1>Itération n°20</h1>"
      ],
      "text/plain": [
       "<IPython.core.display.HTML object>"
      ]
     },
     "metadata": {},
     "output_type": "display_data"
    },
    {
     "name": "stdout",
     "output_type": "stream",
     "text": [
      "Création du dataset en cours ...\n",
      "______________________________________________________\n",
      "Features complétées avec la valeur la plus fréquente :\n",
      "______________________________________________________\n",
      "mean_payment_sequential \t 1.0\n",
      "mean_payment_installments \t 1.0\n",
      "mean_review_score \t 5.0\n",
      "mean_delivery_days \t 7.0\n",
      "______________________________________________________\n",
      "Durée d'execution du Feature engineering : 40.76s\n"
     ]
    },
    {
     "data": {
      "text/html": [
       "<h2>Score ARI :</h2>"
      ],
      "text/plain": [
       "<IPython.core.display.HTML object>"
      ]
     },
     "metadata": {},
     "output_type": "display_data"
    },
    {
     "data": {
      "text/html": [
       "<div>\n",
       "<style scoped>\n",
       "    .dataframe tbody tr th:only-of-type {\n",
       "        vertical-align: middle;\n",
       "    }\n",
       "\n",
       "    .dataframe tbody tr th {\n",
       "        vertical-align: top;\n",
       "    }\n",
       "\n",
       "    .dataframe thead th {\n",
       "        text-align: right;\n",
       "    }\n",
       "</style>\n",
       "<table border=\"1\" class=\"dataframe\">\n",
       "  <thead>\n",
       "    <tr style=\"text-align: right;\">\n",
       "      <th></th>\n",
       "      <th>période</th>\n",
       "      <th>ARI</th>\n",
       "    </tr>\n",
       "  </thead>\n",
       "  <tbody>\n",
       "    <tr>\n",
       "      <th>0</th>\n",
       "      <td>20</td>\n",
       "      <td>0.612838</td>\n",
       "    </tr>\n",
       "  </tbody>\n",
       "</table>\n",
       "</div>"
      ],
      "text/plain": [
       "   période       ARI\n",
       "0       20  0.612838"
      ]
     },
     "metadata": {},
     "output_type": "display_data"
    },
    {
     "data": {
      "text/html": [
       "<h1>Itération n°21</h1>"
      ],
      "text/plain": [
       "<IPython.core.display.HTML object>"
      ]
     },
     "metadata": {},
     "output_type": "display_data"
    },
    {
     "name": "stdout",
     "output_type": "stream",
     "text": [
      "Création du dataset en cours ...\n",
      "______________________________________________________\n",
      "Features complétées avec la valeur la plus fréquente :\n",
      "______________________________________________________\n",
      "mean_payment_sequential \t 1.0\n",
      "mean_payment_installments \t 1.0\n",
      "mean_review_score \t 5.0\n",
      "mean_delivery_days \t 7.0\n",
      "______________________________________________________\n",
      "Durée d'execution du Feature engineering : 40.70s\n"
     ]
    },
    {
     "data": {
      "text/html": [
       "<h2>Score ARI :</h2>"
      ],
      "text/plain": [
       "<IPython.core.display.HTML object>"
      ]
     },
     "metadata": {},
     "output_type": "display_data"
    },
    {
     "data": {
      "text/html": [
       "<div>\n",
       "<style scoped>\n",
       "    .dataframe tbody tr th:only-of-type {\n",
       "        vertical-align: middle;\n",
       "    }\n",
       "\n",
       "    .dataframe tbody tr th {\n",
       "        vertical-align: top;\n",
       "    }\n",
       "\n",
       "    .dataframe thead th {\n",
       "        text-align: right;\n",
       "    }\n",
       "</style>\n",
       "<table border=\"1\" class=\"dataframe\">\n",
       "  <thead>\n",
       "    <tr style=\"text-align: right;\">\n",
       "      <th></th>\n",
       "      <th>période</th>\n",
       "      <th>ARI</th>\n",
       "    </tr>\n",
       "  </thead>\n",
       "  <tbody>\n",
       "    <tr>\n",
       "      <th>0</th>\n",
       "      <td>21</td>\n",
       "      <td>0.612838</td>\n",
       "    </tr>\n",
       "  </tbody>\n",
       "</table>\n",
       "</div>"
      ],
      "text/plain": [
       "   période       ARI\n",
       "0       21  0.612838"
      ]
     },
     "metadata": {},
     "output_type": "display_data"
    },
    {
     "data": {
      "text/html": [
       "<h1>Itération n°22</h1>"
      ],
      "text/plain": [
       "<IPython.core.display.HTML object>"
      ]
     },
     "metadata": {},
     "output_type": "display_data"
    },
    {
     "name": "stdout",
     "output_type": "stream",
     "text": [
      "Création du dataset en cours ...\n",
      "______________________________________________________\n",
      "Features complétées avec la valeur la plus fréquente :\n",
      "______________________________________________________\n",
      "mean_payment_sequential \t 1.0\n",
      "mean_payment_installments \t 1.0\n",
      "mean_review_score \t 5.0\n",
      "mean_delivery_days \t 7.0\n",
      "______________________________________________________\n",
      "Durée d'execution du Feature engineering : 40.77s\n"
     ]
    },
    {
     "data": {
      "text/html": [
       "<h2>Score ARI :</h2>"
      ],
      "text/plain": [
       "<IPython.core.display.HTML object>"
      ]
     },
     "metadata": {},
     "output_type": "display_data"
    },
    {
     "data": {
      "text/html": [
       "<div>\n",
       "<style scoped>\n",
       "    .dataframe tbody tr th:only-of-type {\n",
       "        vertical-align: middle;\n",
       "    }\n",
       "\n",
       "    .dataframe tbody tr th {\n",
       "        vertical-align: top;\n",
       "    }\n",
       "\n",
       "    .dataframe thead th {\n",
       "        text-align: right;\n",
       "    }\n",
       "</style>\n",
       "<table border=\"1\" class=\"dataframe\">\n",
       "  <thead>\n",
       "    <tr style=\"text-align: right;\">\n",
       "      <th></th>\n",
       "      <th>période</th>\n",
       "      <th>ARI</th>\n",
       "    </tr>\n",
       "  </thead>\n",
       "  <tbody>\n",
       "    <tr>\n",
       "      <th>0</th>\n",
       "      <td>22</td>\n",
       "      <td>0.612748</td>\n",
       "    </tr>\n",
       "  </tbody>\n",
       "</table>\n",
       "</div>"
      ],
      "text/plain": [
       "   période       ARI\n",
       "0       22  0.612748"
      ]
     },
     "metadata": {},
     "output_type": "display_data"
    },
    {
     "data": {
      "text/html": [
       "<h1>Itération n°23</h1>"
      ],
      "text/plain": [
       "<IPython.core.display.HTML object>"
      ]
     },
     "metadata": {},
     "output_type": "display_data"
    },
    {
     "name": "stdout",
     "output_type": "stream",
     "text": [
      "Création du dataset en cours ...\n",
      "______________________________________________________\n",
      "Features complétées avec la valeur la plus fréquente :\n",
      "______________________________________________________\n",
      "mean_payment_sequential \t 1.0\n",
      "mean_payment_installments \t 1.0\n",
      "mean_review_score \t 5.0\n",
      "mean_delivery_days \t 7.0\n",
      "______________________________________________________\n",
      "Durée d'execution du Feature engineering : 40.60s\n"
     ]
    },
    {
     "data": {
      "text/html": [
       "<h2>Score ARI :</h2>"
      ],
      "text/plain": [
       "<IPython.core.display.HTML object>"
      ]
     },
     "metadata": {},
     "output_type": "display_data"
    },
    {
     "data": {
      "text/html": [
       "<div>\n",
       "<style scoped>\n",
       "    .dataframe tbody tr th:only-of-type {\n",
       "        vertical-align: middle;\n",
       "    }\n",
       "\n",
       "    .dataframe tbody tr th {\n",
       "        vertical-align: top;\n",
       "    }\n",
       "\n",
       "    .dataframe thead th {\n",
       "        text-align: right;\n",
       "    }\n",
       "</style>\n",
       "<table border=\"1\" class=\"dataframe\">\n",
       "  <thead>\n",
       "    <tr style=\"text-align: right;\">\n",
       "      <th></th>\n",
       "      <th>période</th>\n",
       "      <th>ARI</th>\n",
       "    </tr>\n",
       "  </thead>\n",
       "  <tbody>\n",
       "    <tr>\n",
       "      <th>0</th>\n",
       "      <td>23</td>\n",
       "      <td>0.612748</td>\n",
       "    </tr>\n",
       "  </tbody>\n",
       "</table>\n",
       "</div>"
      ],
      "text/plain": [
       "   période       ARI\n",
       "0       23  0.612748"
      ]
     },
     "metadata": {},
     "output_type": "display_data"
    },
    {
     "data": {
      "text/html": [
       "<h1>Itération n°24</h1>"
      ],
      "text/plain": [
       "<IPython.core.display.HTML object>"
      ]
     },
     "metadata": {},
     "output_type": "display_data"
    },
    {
     "name": "stdout",
     "output_type": "stream",
     "text": [
      "Création du dataset en cours ...\n",
      "______________________________________________________\n",
      "Features complétées avec la valeur la plus fréquente :\n",
      "______________________________________________________\n",
      "mean_payment_sequential \t 1.0\n",
      "mean_payment_installments \t 1.0\n",
      "mean_review_score \t 5.0\n",
      "mean_delivery_days \t 7.0\n",
      "______________________________________________________\n",
      "Durée d'execution du Feature engineering : 40.13s\n"
     ]
    },
    {
     "data": {
      "text/html": [
       "<h2>Score ARI :</h2>"
      ],
      "text/plain": [
       "<IPython.core.display.HTML object>"
      ]
     },
     "metadata": {},
     "output_type": "display_data"
    },
    {
     "data": {
      "text/html": [
       "<div>\n",
       "<style scoped>\n",
       "    .dataframe tbody tr th:only-of-type {\n",
       "        vertical-align: middle;\n",
       "    }\n",
       "\n",
       "    .dataframe tbody tr th {\n",
       "        vertical-align: top;\n",
       "    }\n",
       "\n",
       "    .dataframe thead th {\n",
       "        text-align: right;\n",
       "    }\n",
       "</style>\n",
       "<table border=\"1\" class=\"dataframe\">\n",
       "  <thead>\n",
       "    <tr style=\"text-align: right;\">\n",
       "      <th></th>\n",
       "      <th>période</th>\n",
       "      <th>ARI</th>\n",
       "    </tr>\n",
       "  </thead>\n",
       "  <tbody>\n",
       "    <tr>\n",
       "      <th>0</th>\n",
       "      <td>24</td>\n",
       "      <td>0.612748</td>\n",
       "    </tr>\n",
       "  </tbody>\n",
       "</table>\n",
       "</div>"
      ],
      "text/plain": [
       "   période       ARI\n",
       "0       24  0.612748"
      ]
     },
     "metadata": {},
     "output_type": "display_data"
    },
    {
     "data": {
      "text/html": [
       "<h1>Itération n°25</h1>"
      ],
      "text/plain": [
       "<IPython.core.display.HTML object>"
      ]
     },
     "metadata": {},
     "output_type": "display_data"
    },
    {
     "name": "stdout",
     "output_type": "stream",
     "text": [
      "Création du dataset en cours ...\n",
      "______________________________________________________\n",
      "Features complétées avec la valeur la plus fréquente :\n",
      "______________________________________________________\n",
      "mean_payment_sequential \t 1.0\n",
      "mean_payment_installments \t 1.0\n",
      "mean_review_score \t 5.0\n",
      "mean_delivery_days \t 7.0\n",
      "______________________________________________________\n",
      "Durée d'execution du Feature engineering : 39.98s\n"
     ]
    },
    {
     "data": {
      "text/html": [
       "<h2>Score ARI :</h2>"
      ],
      "text/plain": [
       "<IPython.core.display.HTML object>"
      ]
     },
     "metadata": {},
     "output_type": "display_data"
    },
    {
     "data": {
      "text/html": [
       "<div>\n",
       "<style scoped>\n",
       "    .dataframe tbody tr th:only-of-type {\n",
       "        vertical-align: middle;\n",
       "    }\n",
       "\n",
       "    .dataframe tbody tr th {\n",
       "        vertical-align: top;\n",
       "    }\n",
       "\n",
       "    .dataframe thead th {\n",
       "        text-align: right;\n",
       "    }\n",
       "</style>\n",
       "<table border=\"1\" class=\"dataframe\">\n",
       "  <thead>\n",
       "    <tr style=\"text-align: right;\">\n",
       "      <th></th>\n",
       "      <th>période</th>\n",
       "      <th>ARI</th>\n",
       "    </tr>\n",
       "  </thead>\n",
       "  <tbody>\n",
       "    <tr>\n",
       "      <th>0</th>\n",
       "      <td>25</td>\n",
       "      <td>0.612748</td>\n",
       "    </tr>\n",
       "  </tbody>\n",
       "</table>\n",
       "</div>"
      ],
      "text/plain": [
       "   période       ARI\n",
       "0       25  0.612748"
      ]
     },
     "metadata": {},
     "output_type": "display_data"
    }
   ],
   "source": [
    "ari_score_1month = []\n",
    "i=1\n",
    "K=3\n",
    "for p in np.arange(1,(time_delta+3),1):\n",
    "    display(HTML(\"<h1>Itération n°{}</h1>\".format(i)))\n",
    "    \n",
    "    # Creation du dataset pour la période p\n",
    "    data_period = make_dataset(\n",
    "        dpath=\"./data/\", \n",
    "        initial=False, \n",
    "        period=p\n",
    "    )\n",
    "    data_period.drop(columns=products_categories, inplace=True)\n",
    "    data_period = data_period.select_dtypes(include=np.number)\n",
    "    \n",
    "    \n",
    "    # K-Means (pour simuler des conditions réelles, nous entraînons d'abord notre\n",
    "    # algorithme K-means avec les données de tous les clients sur la période couverte)\n",
    "    kmeans_p = Pipeline([(\"preprocessor\", MinMaxScaler()),\n",
    "                         (\"kmeans\", KMeans(K, random_state=1))])\n",
    "    kmeans_p.fit(data_period)\n",
    "    p_labels = kmeans_p.named_steps['kmeans'].labels_\n",
    "    \n",
    "    data_period[\"kmeans_labels\"] = p_labels\n",
    "    \n",
    "    # Puis nous ne conservons que les clients de la période initiale\n",
    "    data_period = data_period[data_period.index.isin(X_init.index)]\n",
    "    \n",
    "    # Calcul du score ARI\n",
    "    ari_p = adjusted_rand_score(init_labels, data_period[\"kmeans_labels\"])\n",
    "    ari_score_1month.append([p,ari_p])\n",
    "    \n",
    "    display(HTML(\"<h2>Score ARI :</h2>\"))\n",
    "    to_display = pd.DataFrame({\n",
    "        \"période\": [p],\n",
    "        \"ARI\": [ari_p]\n",
    "    })\n",
    "    display(to_display)\n",
    "    i+=1"
   ]
  },
  {
   "cell_type": "code",
   "execution_count": 174,
   "id": "c24f35b8",
   "metadata": {},
   "outputs": [
    {
     "data": {
      "text/html": [
       "<div>\n",
       "<style scoped>\n",
       "    .dataframe tbody tr th:only-of-type {\n",
       "        vertical-align: middle;\n",
       "    }\n",
       "\n",
       "    .dataframe tbody tr th {\n",
       "        vertical-align: top;\n",
       "    }\n",
       "\n",
       "    .dataframe thead th {\n",
       "        text-align: right;\n",
       "    }\n",
       "</style>\n",
       "<table border=\"1\" class=\"dataframe\">\n",
       "  <thead>\n",
       "    <tr style=\"text-align: right;\">\n",
       "      <th></th>\n",
       "      <th>periode</th>\n",
       "      <th>ARI</th>\n",
       "    </tr>\n",
       "  </thead>\n",
       "  <tbody>\n",
       "  </tbody>\n",
       "</table>\n",
       "</div>"
      ],
      "text/plain": [
       "Empty DataFrame\n",
       "Columns: [periode, ARI]\n",
       "Index: []"
      ]
     },
     "metadata": {},
     "output_type": "display_data"
    },
    {
     "data": {
      "image/png": "[encoded data removed]",
      "text/plain": [
       "<Figure size 1296x648 with 1 Axes>"
      ]
     },
     "metadata": {},
     "output_type": "display_data"
    }
   ],
   "source": [
    "ari_score_1month = pd.DataFrame(ari_score_1month, columns=[\"periode\", \"ARI\"])\n",
    "display(ari_score_1month)\n",
    "\n",
    "# graphique de l'indice de Rand ajousté (ARI)\n",
    "fig = plt.figure(figsize=(18,9))\n",
    "sns.lineplot(\n",
    "    data=ari_score_1month, \n",
    "    x=\"periode\", \n",
    "    y=\"ARI\",\n",
    "    marker=\"o\"\n",
    ")\n",
    "plt.xlim(1,time_delta+3)\n",
    "plt.axhline(\n",
    "    y=0.6, \n",
    "    linestyle=\"--\", \n",
    "    color=\"green\",\n",
    "    linewidth=1\n",
    ")\n",
    "\n",
    "for x, y in zip(ari_score_1month[\"periode\"], ari_score_1month[\"ARI\"]):\n",
    "    plt.text(\n",
    "        x = x,\n",
    "        y = y-0.03,\n",
    "        s = \"{:.3f}\".format(y), \n",
    "        color = \"blue\"\n",
    "    )\n",
    "\n",
    "plt.xticks(np.arange(1,time_delta+3,1))\n",
    "plt.xlabel(\"Période (mois)\")\n",
    "plt.ylabel(\"Score ARI\")\n",
    "plt.title(\"Stabilité temporelle de la segmentation par K-Means\",\n",
    "          fontsize=18,\n",
    "          color=\"b\")\n",
    "plt.show()"
   ]
  },
  {
   "cell_type": "code",
   "execution_count": 170,
   "id": "57b88432",
   "metadata": {},
   "outputs": [
    {
     "data": {
      "image/png": "[encoded data removed]",
      "text/plain": [
       "<Figure size 1296x648 with 1 Axes>"
      ]
     },
     "metadata": {},
     "output_type": "display_data"
    }
   ],
   "source": [
    "fig = plt.figure(figsize=(18,9))\n",
    "sns.lineplot(\n",
    "    data=ari_score_1month, \n",
    "    x=\"periode\", \n",
    "    y=\"ARI\",\n",
    "    marker='o'\n",
    ")\n",
    "sns.lineplot(\n",
    "    data=ari_score, \n",
    "    x=\"periode\", \n",
    "    y=\"ARI\",\n",
    "    marker='o'\n",
    ")\n",
    "plt.xlim(1,time_delta+3)\n",
    "plt.axhline(\n",
    "    y=0.6, \n",
    "    linestyle=\"--\", \n",
    "    color=\"green\",\n",
    "    linewidth=1\n",
    ")\n",
    "\n",
    "# valeurs affichées près des marqueurs\n",
    "for x, y in zip(ari_score[\"periode\"], ari_score[\"ARI\"]):\n",
    "    plt.text(\n",
    "        x = x,\n",
    "        y = y+0.02,\n",
    "        s = \"{:.3f}\".format(y), \n",
    "        color = \"red\"\n",
    "    )\n",
    "for x, y in zip(ari_score_1month[\"periode\"], ari_score_1month[\"ARI\"]):\n",
    "    plt.text(\n",
    "        x = x,\n",
    "        y = y-0.03,\n",
    "        s = \"{:.3f}\".format(y), \n",
    "        color = \"blue\"\n",
    "    )\n",
    "\n",
    "\n",
    "plt.xticks(np.arange(3,time_delta+3,3))\n",
    "plt.xlabel(\"Période (mois)\")\n",
    "plt.ylabel(\"Score ARI\")\n",
    "plt.title(\"Stabilité temporelle de la segmentation par K-Means\",\n",
    "          fontsize=18,\n",
    "          color=\"b\")\n",
    "plt.show()"
   ]
  },
  {
   "cell_type": "markdown",
   "id": "22ce9d4b",
   "metadata": {},
   "source": [
    "Après 12 mois, on peut constater que les score AR"
   ]
  },
  {
   "cell_type": "code",
   "execution_count": 172,
   "id": "37a865e3",
   "metadata": {},
   "outputs": [
    {
     "data": {
      "text/html": [
       "<h1>Itération n°1</h1>"
      ],
      "text/plain": [
       "<IPython.core.display.HTML object>"
      ]
     },
     "metadata": {},
     "output_type": "display_data"
    },
    {
     "name": "stdout",
     "output_type": "stream",
     "text": [
      "Création du dataset en cours ...\n",
      "______________________________________________________\n",
      "Features complétées avec la valeur la plus fréquente :\n",
      "______________________________________________________\n",
      "mean_payment_sequential \t 1.0\n",
      "mean_payment_installments \t 1.0\n",
      "mean_review_score \t 5.0\n",
      "mean_delivery_days \t 7.0\n",
      "______________________________________________________\n",
      "Durée d'execution du Feature engineering : 14.13s\n"
     ]
    },
    {
     "data": {
      "text/html": [
       "<h2>Score ARI :</h2>"
      ],
      "text/plain": [
       "<IPython.core.display.HTML object>"
      ]
     },
     "metadata": {},
     "output_type": "display_data"
    },
    {
     "data": {
      "text/html": [
       "<div>\n",
       "<style scoped>\n",
       "    .dataframe tbody tr th:only-of-type {\n",
       "        vertical-align: middle;\n",
       "    }\n",
       "\n",
       "    .dataframe tbody tr th {\n",
       "        vertical-align: top;\n",
       "    }\n",
       "\n",
       "    .dataframe thead th {\n",
       "        text-align: right;\n",
       "    }\n",
       "</style>\n",
       "<table border=\"1\" class=\"dataframe\">\n",
       "  <thead>\n",
       "    <tr style=\"text-align: right;\">\n",
       "      <th></th>\n",
       "      <th>période</th>\n",
       "      <th>ARI</th>\n",
       "    </tr>\n",
       "  </thead>\n",
       "  <tbody>\n",
       "    <tr>\n",
       "      <th>0</th>\n",
       "      <td>2</td>\n",
       "      <td>0.601614</td>\n",
       "    </tr>\n",
       "  </tbody>\n",
       "</table>\n",
       "</div>"
      ],
      "text/plain": [
       "   période       ARI\n",
       "0        2  0.601614"
      ]
     },
     "metadata": {},
     "output_type": "display_data"
    },
    {
     "data": {
      "text/html": [
       "<h1>Itération n°2</h1>"
      ],
      "text/plain": [
       "<IPython.core.display.HTML object>"
      ]
     },
     "metadata": {},
     "output_type": "display_data"
    },
    {
     "name": "stdout",
     "output_type": "stream",
     "text": [
      "Création du dataset en cours ...\n",
      "______________________________________________________\n",
      "Features complétées avec la valeur la plus fréquente :\n",
      "______________________________________________________\n",
      "mean_payment_sequential \t 1.0\n",
      "mean_payment_installments \t 1.0\n",
      "mean_review_score \t 5.0\n",
      "mean_delivery_days \t 8.0\n",
      "______________________________________________________\n",
      "Durée d'execution du Feature engineering : 19.34s\n"
     ]
    },
    {
     "data": {
      "text/html": [
       "<h2>Score ARI :</h2>"
      ],
      "text/plain": [
       "<IPython.core.display.HTML object>"
      ]
     },
     "metadata": {},
     "output_type": "display_data"
    },
    {
     "data": {
      "text/html": [
       "<div>\n",
       "<style scoped>\n",
       "    .dataframe tbody tr th:only-of-type {\n",
       "        vertical-align: middle;\n",
       "    }\n",
       "\n",
       "    .dataframe tbody tr th {\n",
       "        vertical-align: top;\n",
       "    }\n",
       "\n",
       "    .dataframe thead th {\n",
       "        text-align: right;\n",
       "    }\n",
       "</style>\n",
       "<table border=\"1\" class=\"dataframe\">\n",
       "  <thead>\n",
       "    <tr style=\"text-align: right;\">\n",
       "      <th></th>\n",
       "      <th>période</th>\n",
       "      <th>ARI</th>\n",
       "    </tr>\n",
       "  </thead>\n",
       "  <tbody>\n",
       "    <tr>\n",
       "      <th>0</th>\n",
       "      <td>4</td>\n",
       "      <td>0.298755</td>\n",
       "    </tr>\n",
       "  </tbody>\n",
       "</table>\n",
       "</div>"
      ],
      "text/plain": [
       "   période       ARI\n",
       "0        4  0.298755"
      ]
     },
     "metadata": {},
     "output_type": "display_data"
    },
    {
     "data": {
      "text/html": [
       "<h1>Itération n°3</h1>"
      ],
      "text/plain": [
       "<IPython.core.display.HTML object>"
      ]
     },
     "metadata": {},
     "output_type": "display_data"
    },
    {
     "name": "stdout",
     "output_type": "stream",
     "text": [
      "Création du dataset en cours ...\n",
      "______________________________________________________\n",
      "Features complétées avec la valeur la plus fréquente :\n",
      "______________________________________________________\n",
      "mean_payment_sequential \t 1.0\n",
      "mean_payment_installments \t 1.0\n",
      "mean_review_score \t 5.0\n",
      "mean_delivery_days \t 8.0\n",
      "______________________________________________________\n",
      "Durée d'execution du Feature engineering : 24.87s\n"
     ]
    },
    {
     "data": {
      "text/html": [
       "<h2>Score ARI :</h2>"
      ],
      "text/plain": [
       "<IPython.core.display.HTML object>"
      ]
     },
     "metadata": {},
     "output_type": "display_data"
    },
    {
     "data": {
      "text/html": [
       "<div>\n",
       "<style scoped>\n",
       "    .dataframe tbody tr th:only-of-type {\n",
       "        vertical-align: middle;\n",
       "    }\n",
       "\n",
       "    .dataframe tbody tr th {\n",
       "        vertical-align: top;\n",
       "    }\n",
       "\n",
       "    .dataframe thead th {\n",
       "        text-align: right;\n",
       "    }\n",
       "</style>\n",
       "<table border=\"1\" class=\"dataframe\">\n",
       "  <thead>\n",
       "    <tr style=\"text-align: right;\">\n",
       "      <th></th>\n",
       "      <th>période</th>\n",
       "      <th>ARI</th>\n",
       "    </tr>\n",
       "  </thead>\n",
       "  <tbody>\n",
       "    <tr>\n",
       "      <th>0</th>\n",
       "      <td>6</td>\n",
       "      <td>0.598247</td>\n",
       "    </tr>\n",
       "  </tbody>\n",
       "</table>\n",
       "</div>"
      ],
      "text/plain": [
       "   période       ARI\n",
       "0        6  0.598247"
      ]
     },
     "metadata": {},
     "output_type": "display_data"
    },
    {
     "data": {
      "text/html": [
       "<h1>Itération n°4</h1>"
      ],
      "text/plain": [
       "<IPython.core.display.HTML object>"
      ]
     },
     "metadata": {},
     "output_type": "display_data"
    },
    {
     "name": "stdout",
     "output_type": "stream",
     "text": [
      "Création du dataset en cours ...\n",
      "______________________________________________________\n",
      "Features complétées avec la valeur la plus fréquente :\n",
      "______________________________________________________\n",
      "mean_payment_sequential \t 1.0\n",
      "mean_payment_installments \t 1.0\n",
      "mean_review_score \t 5.0\n",
      "mean_delivery_days \t 7.0\n",
      "______________________________________________________\n",
      "Durée d'execution du Feature engineering : 30.39s\n"
     ]
    },
    {
     "data": {
      "text/html": [
       "<h2>Score ARI :</h2>"
      ],
      "text/plain": [
       "<IPython.core.display.HTML object>"
      ]
     },
     "metadata": {},
     "output_type": "display_data"
    },
    {
     "data": {
      "text/html": [
       "<div>\n",
       "<style scoped>\n",
       "    .dataframe tbody tr th:only-of-type {\n",
       "        vertical-align: middle;\n",
       "    }\n",
       "\n",
       "    .dataframe tbody tr th {\n",
       "        vertical-align: top;\n",
       "    }\n",
       "\n",
       "    .dataframe thead th {\n",
       "        text-align: right;\n",
       "    }\n",
       "</style>\n",
       "<table border=\"1\" class=\"dataframe\">\n",
       "  <thead>\n",
       "    <tr style=\"text-align: right;\">\n",
       "      <th></th>\n",
       "      <th>période</th>\n",
       "      <th>ARI</th>\n",
       "    </tr>\n",
       "  </thead>\n",
       "  <tbody>\n",
       "    <tr>\n",
       "      <th>0</th>\n",
       "      <td>8</td>\n",
       "      <td>0.94054</td>\n",
       "    </tr>\n",
       "  </tbody>\n",
       "</table>\n",
       "</div>"
      ],
      "text/plain": [
       "   période      ARI\n",
       "0        8  0.94054"
      ]
     },
     "metadata": {},
     "output_type": "display_data"
    },
    {
     "data": {
      "text/html": [
       "<h1>Itération n°5</h1>"
      ],
      "text/plain": [
       "<IPython.core.display.HTML object>"
      ]
     },
     "metadata": {},
     "output_type": "display_data"
    },
    {
     "name": "stdout",
     "output_type": "stream",
     "text": [
      "Création du dataset en cours ...\n",
      "______________________________________________________\n",
      "Features complétées avec la valeur la plus fréquente :\n",
      "______________________________________________________\n",
      "mean_payment_sequential \t 1.0\n",
      "mean_payment_installments \t 1.0\n",
      "mean_review_score \t 5.0\n",
      "mean_delivery_days \t 7.0\n",
      "______________________________________________________\n",
      "Durée d'execution du Feature engineering : 35.41s\n"
     ]
    },
    {
     "data": {
      "text/html": [
       "<h2>Score ARI :</h2>"
      ],
      "text/plain": [
       "<IPython.core.display.HTML object>"
      ]
     },
     "metadata": {},
     "output_type": "display_data"
    },
    {
     "data": {
      "text/html": [
       "<div>\n",
       "<style scoped>\n",
       "    .dataframe tbody tr th:only-of-type {\n",
       "        vertical-align: middle;\n",
       "    }\n",
       "\n",
       "    .dataframe tbody tr th {\n",
       "        vertical-align: top;\n",
       "    }\n",
       "\n",
       "    .dataframe thead th {\n",
       "        text-align: right;\n",
       "    }\n",
       "</style>\n",
       "<table border=\"1\" class=\"dataframe\">\n",
       "  <thead>\n",
       "    <tr style=\"text-align: right;\">\n",
       "      <th></th>\n",
       "      <th>période</th>\n",
       "      <th>ARI</th>\n",
       "    </tr>\n",
       "  </thead>\n",
       "  <tbody>\n",
       "    <tr>\n",
       "      <th>0</th>\n",
       "      <td>10</td>\n",
       "      <td>0.881846</td>\n",
       "    </tr>\n",
       "  </tbody>\n",
       "</table>\n",
       "</div>"
      ],
      "text/plain": [
       "   période       ARI\n",
       "0       10  0.881846"
      ]
     },
     "metadata": {},
     "output_type": "display_data"
    },
    {
     "data": {
      "text/html": [
       "<h1>Itération n°6</h1>"
      ],
      "text/plain": [
       "<IPython.core.display.HTML object>"
      ]
     },
     "metadata": {},
     "output_type": "display_data"
    },
    {
     "name": "stdout",
     "output_type": "stream",
     "text": [
      "Création du dataset en cours ...\n",
      "______________________________________________________\n",
      "Features complétées avec la valeur la plus fréquente :\n",
      "______________________________________________________\n",
      "mean_payment_sequential \t 1.0\n",
      "mean_payment_installments \t 1.0\n",
      "mean_review_score \t 5.0\n",
      "mean_delivery_days \t 7.0\n",
      "______________________________________________________\n",
      "Durée d'execution du Feature engineering : 39.96s\n"
     ]
    },
    {
     "data": {
      "text/html": [
       "<h2>Score ARI :</h2>"
      ],
      "text/plain": [
       "<IPython.core.display.HTML object>"
      ]
     },
     "metadata": {},
     "output_type": "display_data"
    },
    {
     "data": {
      "text/html": [
       "<div>\n",
       "<style scoped>\n",
       "    .dataframe tbody tr th:only-of-type {\n",
       "        vertical-align: middle;\n",
       "    }\n",
       "\n",
       "    .dataframe tbody tr th {\n",
       "        vertical-align: top;\n",
       "    }\n",
       "\n",
       "    .dataframe thead th {\n",
       "        text-align: right;\n",
       "    }\n",
       "</style>\n",
       "<table border=\"1\" class=\"dataframe\">\n",
       "  <thead>\n",
       "    <tr style=\"text-align: right;\">\n",
       "      <th></th>\n",
       "      <th>période</th>\n",
       "      <th>ARI</th>\n",
       "    </tr>\n",
       "  </thead>\n",
       "  <tbody>\n",
       "    <tr>\n",
       "      <th>0</th>\n",
       "      <td>12</td>\n",
       "      <td>0.612928</td>\n",
       "    </tr>\n",
       "  </tbody>\n",
       "</table>\n",
       "</div>"
      ],
      "text/plain": [
       "   période       ARI\n",
       "0       12  0.612928"
      ]
     },
     "metadata": {},
     "output_type": "display_data"
    },
    {
     "data": {
      "text/html": [
       "<h1>Itération n°7</h1>"
      ],
      "text/plain": [
       "<IPython.core.display.HTML object>"
      ]
     },
     "metadata": {},
     "output_type": "display_data"
    },
    {
     "name": "stdout",
     "output_type": "stream",
     "text": [
      "Création du dataset en cours ...\n",
      "______________________________________________________\n",
      "Features complétées avec la valeur la plus fréquente :\n",
      "______________________________________________________\n",
      "mean_payment_sequential \t 1.0\n",
      "mean_payment_installments \t 1.0\n",
      "mean_review_score \t 5.0\n",
      "mean_delivery_days \t 7.0\n",
      "______________________________________________________\n",
      "Durée d'execution du Feature engineering : 40.08s\n"
     ]
    },
    {
     "data": {
      "text/html": [
       "<h2>Score ARI :</h2>"
      ],
      "text/plain": [
       "<IPython.core.display.HTML object>"
      ]
     },
     "metadata": {},
     "output_type": "display_data"
    },
    {
     "data": {
      "text/html": [
       "<div>\n",
       "<style scoped>\n",
       "    .dataframe tbody tr th:only-of-type {\n",
       "        vertical-align: middle;\n",
       "    }\n",
       "\n",
       "    .dataframe tbody tr th {\n",
       "        vertical-align: top;\n",
       "    }\n",
       "\n",
       "    .dataframe thead th {\n",
       "        text-align: right;\n",
       "    }\n",
       "</style>\n",
       "<table border=\"1\" class=\"dataframe\">\n",
       "  <thead>\n",
       "    <tr style=\"text-align: right;\">\n",
       "      <th></th>\n",
       "      <th>période</th>\n",
       "      <th>ARI</th>\n",
       "    </tr>\n",
       "  </thead>\n",
       "  <tbody>\n",
       "    <tr>\n",
       "      <th>0</th>\n",
       "      <td>14</td>\n",
       "      <td>0.612928</td>\n",
       "    </tr>\n",
       "  </tbody>\n",
       "</table>\n",
       "</div>"
      ],
      "text/plain": [
       "   période       ARI\n",
       "0       14  0.612928"
      ]
     },
     "metadata": {},
     "output_type": "display_data"
    },
    {
     "data": {
      "text/html": [
       "<h1>Itération n°8</h1>"
      ],
      "text/plain": [
       "<IPython.core.display.HTML object>"
      ]
     },
     "metadata": {},
     "output_type": "display_data"
    },
    {
     "name": "stdout",
     "output_type": "stream",
     "text": [
      "Création du dataset en cours ...\n",
      "______________________________________________________\n",
      "Features complétées avec la valeur la plus fréquente :\n",
      "______________________________________________________\n",
      "mean_payment_sequential \t 1.0\n",
      "mean_payment_installments \t 1.0\n",
      "mean_review_score \t 5.0\n",
      "mean_delivery_days \t 7.0\n",
      "______________________________________________________\n",
      "Durée d'execution du Feature engineering : 40.03s\n"
     ]
    },
    {
     "data": {
      "text/html": [
       "<h2>Score ARI :</h2>"
      ],
      "text/plain": [
       "<IPython.core.display.HTML object>"
      ]
     },
     "metadata": {},
     "output_type": "display_data"
    },
    {
     "data": {
      "text/html": [
       "<div>\n",
       "<style scoped>\n",
       "    .dataframe tbody tr th:only-of-type {\n",
       "        vertical-align: middle;\n",
       "    }\n",
       "\n",
       "    .dataframe tbody tr th {\n",
       "        vertical-align: top;\n",
       "    }\n",
       "\n",
       "    .dataframe thead th {\n",
       "        text-align: right;\n",
       "    }\n",
       "</style>\n",
       "<table border=\"1\" class=\"dataframe\">\n",
       "  <thead>\n",
       "    <tr style=\"text-align: right;\">\n",
       "      <th></th>\n",
       "      <th>période</th>\n",
       "      <th>ARI</th>\n",
       "    </tr>\n",
       "  </thead>\n",
       "  <tbody>\n",
       "    <tr>\n",
       "      <th>0</th>\n",
       "      <td>16</td>\n",
       "      <td>0.612928</td>\n",
       "    </tr>\n",
       "  </tbody>\n",
       "</table>\n",
       "</div>"
      ],
      "text/plain": [
       "   période       ARI\n",
       "0       16  0.612928"
      ]
     },
     "metadata": {},
     "output_type": "display_data"
    },
    {
     "data": {
      "text/html": [
       "<h1>Itération n°9</h1>"
      ],
      "text/plain": [
       "<IPython.core.display.HTML object>"
      ]
     },
     "metadata": {},
     "output_type": "display_data"
    },
    {
     "name": "stdout",
     "output_type": "stream",
     "text": [
      "Création du dataset en cours ...\n",
      "______________________________________________________\n",
      "Features complétées avec la valeur la plus fréquente :\n",
      "______________________________________________________\n",
      "mean_payment_sequential \t 1.0\n",
      "mean_payment_installments \t 1.0\n",
      "mean_review_score \t 5.0\n",
      "mean_delivery_days \t 7.0\n",
      "______________________________________________________\n",
      "Durée d'execution du Feature engineering : 40.05s\n"
     ]
    },
    {
     "data": {
      "text/html": [
       "<h2>Score ARI :</h2>"
      ],
      "text/plain": [
       "<IPython.core.display.HTML object>"
      ]
     },
     "metadata": {},
     "output_type": "display_data"
    },
    {
     "data": {
      "text/html": [
       "<div>\n",
       "<style scoped>\n",
       "    .dataframe tbody tr th:only-of-type {\n",
       "        vertical-align: middle;\n",
       "    }\n",
       "\n",
       "    .dataframe tbody tr th {\n",
       "        vertical-align: top;\n",
       "    }\n",
       "\n",
       "    .dataframe thead th {\n",
       "        text-align: right;\n",
       "    }\n",
       "</style>\n",
       "<table border=\"1\" class=\"dataframe\">\n",
       "  <thead>\n",
       "    <tr style=\"text-align: right;\">\n",
       "      <th></th>\n",
       "      <th>période</th>\n",
       "      <th>ARI</th>\n",
       "    </tr>\n",
       "  </thead>\n",
       "  <tbody>\n",
       "    <tr>\n",
       "      <th>0</th>\n",
       "      <td>18</td>\n",
       "      <td>0.612748</td>\n",
       "    </tr>\n",
       "  </tbody>\n",
       "</table>\n",
       "</div>"
      ],
      "text/plain": [
       "   période       ARI\n",
       "0       18  0.612748"
      ]
     },
     "metadata": {},
     "output_type": "display_data"
    },
    {
     "data": {
      "text/html": [
       "<h1>Itération n°10</h1>"
      ],
      "text/plain": [
       "<IPython.core.display.HTML object>"
      ]
     },
     "metadata": {},
     "output_type": "display_data"
    },
    {
     "name": "stdout",
     "output_type": "stream",
     "text": [
      "Création du dataset en cours ...\n",
      "______________________________________________________\n",
      "Features complétées avec la valeur la plus fréquente :\n",
      "______________________________________________________\n",
      "mean_payment_sequential \t 1.0\n",
      "mean_payment_installments \t 1.0\n",
      "mean_review_score \t 5.0\n",
      "mean_delivery_days \t 7.0\n",
      "______________________________________________________\n",
      "Durée d'execution du Feature engineering : 40.08s\n"
     ]
    },
    {
     "data": {
      "text/html": [
       "<h2>Score ARI :</h2>"
      ],
      "text/plain": [
       "<IPython.core.display.HTML object>"
      ]
     },
     "metadata": {},
     "output_type": "display_data"
    },
    {
     "data": {
      "text/html": [
       "<div>\n",
       "<style scoped>\n",
       "    .dataframe tbody tr th:only-of-type {\n",
       "        vertical-align: middle;\n",
       "    }\n",
       "\n",
       "    .dataframe tbody tr th {\n",
       "        vertical-align: top;\n",
       "    }\n",
       "\n",
       "    .dataframe thead th {\n",
       "        text-align: right;\n",
       "    }\n",
       "</style>\n",
       "<table border=\"1\" class=\"dataframe\">\n",
       "  <thead>\n",
       "    <tr style=\"text-align: right;\">\n",
       "      <th></th>\n",
       "      <th>période</th>\n",
       "      <th>ARI</th>\n",
       "    </tr>\n",
       "  </thead>\n",
       "  <tbody>\n",
       "    <tr>\n",
       "      <th>0</th>\n",
       "      <td>20</td>\n",
       "      <td>0.612838</td>\n",
       "    </tr>\n",
       "  </tbody>\n",
       "</table>\n",
       "</div>"
      ],
      "text/plain": [
       "   période       ARI\n",
       "0       20  0.612838"
      ]
     },
     "metadata": {},
     "output_type": "display_data"
    },
    {
     "data": {
      "text/html": [
       "<h1>Itération n°11</h1>"
      ],
      "text/plain": [
       "<IPython.core.display.HTML object>"
      ]
     },
     "metadata": {},
     "output_type": "display_data"
    },
    {
     "name": "stdout",
     "output_type": "stream",
     "text": [
      "Création du dataset en cours ...\n",
      "______________________________________________________\n",
      "Features complétées avec la valeur la plus fréquente :\n",
      "______________________________________________________\n",
      "mean_payment_sequential \t 1.0\n",
      "mean_payment_installments \t 1.0\n",
      "mean_review_score \t 5.0\n",
      "mean_delivery_days \t 7.0\n",
      "______________________________________________________\n",
      "Durée d'execution du Feature engineering : 40.07s\n"
     ]
    },
    {
     "data": {
      "text/html": [
       "<h2>Score ARI :</h2>"
      ],
      "text/plain": [
       "<IPython.core.display.HTML object>"
      ]
     },
     "metadata": {},
     "output_type": "display_data"
    },
    {
     "data": {
      "text/html": [
       "<div>\n",
       "<style scoped>\n",
       "    .dataframe tbody tr th:only-of-type {\n",
       "        vertical-align: middle;\n",
       "    }\n",
       "\n",
       "    .dataframe tbody tr th {\n",
       "        vertical-align: top;\n",
       "    }\n",
       "\n",
       "    .dataframe thead th {\n",
       "        text-align: right;\n",
       "    }\n",
       "</style>\n",
       "<table border=\"1\" class=\"dataframe\">\n",
       "  <thead>\n",
       "    <tr style=\"text-align: right;\">\n",
       "      <th></th>\n",
       "      <th>période</th>\n",
       "      <th>ARI</th>\n",
       "    </tr>\n",
       "  </thead>\n",
       "  <tbody>\n",
       "    <tr>\n",
       "      <th>0</th>\n",
       "      <td>22</td>\n",
       "      <td>0.612748</td>\n",
       "    </tr>\n",
       "  </tbody>\n",
       "</table>\n",
       "</div>"
      ],
      "text/plain": [
       "   période       ARI\n",
       "0       22  0.612748"
      ]
     },
     "metadata": {},
     "output_type": "display_data"
    },
    {
     "data": {
      "text/html": [
       "<h1>Itération n°12</h1>"
      ],
      "text/plain": [
       "<IPython.core.display.HTML object>"
      ]
     },
     "metadata": {},
     "output_type": "display_data"
    },
    {
     "name": "stdout",
     "output_type": "stream",
     "text": [
      "Création du dataset en cours ...\n",
      "______________________________________________________\n",
      "Features complétées avec la valeur la plus fréquente :\n",
      "______________________________________________________\n",
      "mean_payment_sequential \t 1.0\n",
      "mean_payment_installments \t 1.0\n",
      "mean_review_score \t 5.0\n",
      "mean_delivery_days \t 7.0\n",
      "______________________________________________________\n",
      "Durée d'execution du Feature engineering : 40.10s\n"
     ]
    },
    {
     "data": {
      "text/html": [
       "<h2>Score ARI :</h2>"
      ],
      "text/plain": [
       "<IPython.core.display.HTML object>"
      ]
     },
     "metadata": {},
     "output_type": "display_data"
    },
    {
     "data": {
      "text/html": [
       "<div>\n",
       "<style scoped>\n",
       "    .dataframe tbody tr th:only-of-type {\n",
       "        vertical-align: middle;\n",
       "    }\n",
       "\n",
       "    .dataframe tbody tr th {\n",
       "        vertical-align: top;\n",
       "    }\n",
       "\n",
       "    .dataframe thead th {\n",
       "        text-align: right;\n",
       "    }\n",
       "</style>\n",
       "<table border=\"1\" class=\"dataframe\">\n",
       "  <thead>\n",
       "    <tr style=\"text-align: right;\">\n",
       "      <th></th>\n",
       "      <th>période</th>\n",
       "      <th>ARI</th>\n",
       "    </tr>\n",
       "  </thead>\n",
       "  <tbody>\n",
       "    <tr>\n",
       "      <th>0</th>\n",
       "      <td>24</td>\n",
       "      <td>0.612748</td>\n",
       "    </tr>\n",
       "  </tbody>\n",
       "</table>\n",
       "</div>"
      ],
      "text/plain": [
       "   période       ARI\n",
       "0       24  0.612748"
      ]
     },
     "metadata": {},
     "output_type": "display_data"
    }
   ],
   "source": [
    "ari_score_2month = []\n",
    "i=1\n",
    "K=3\n",
    "for p in np.arange(2,(time_delta+3),2):\n",
    "    display(HTML(\"<h1>Itération n°{}</h1>\".format(i)))\n",
    "    \n",
    "    # Creation du dataset pour la période p\n",
    "    data_period = make_dataset(\n",
    "        dpath=\"./data/\", \n",
    "        initial=False, \n",
    "        period=p\n",
    "    )\n",
    "    data_period.drop(columns=products_categories, inplace=True)\n",
    "    data_period = data_period.select_dtypes(include=np.number)\n",
    "    \n",
    "    \n",
    "    # K-Means (pour simuler des conditions réelles, nous entraînons d'abord notre\n",
    "    # algorithme K-means avec les données de tous les clients sur la période couverte)\n",
    "    kmeans_p = Pipeline([(\"preprocessor\", MinMaxScaler()),\n",
    "                         (\"kmeans\", KMeans(K, random_state=1))])\n",
    "    kmeans_p.fit(data_period)\n",
    "    p_labels = kmeans_p.named_steps['kmeans'].labels_\n",
    "    \n",
    "    data_period[\"kmeans_labels\"] = p_labels\n",
    "    \n",
    "    # Puis nous ne conservons que les clients de la période initiale\n",
    "    data_period = data_period[data_period.index.isin(X_init.index)]\n",
    "    \n",
    "    # Calcul du score ARI\n",
    "    ari_p = adjusted_rand_score(init_labels, data_period[\"kmeans_labels\"])\n",
    "    ari_score_2month.append([p,ari_p])\n",
    "    \n",
    "    display(HTML(\"<h2>Score ARI :</h2>\"))\n",
    "    to_display = pd.DataFrame({\n",
    "        \"période\": [p],\n",
    "        \"ARI\": [ari_p]\n",
    "    })\n",
    "    display(to_display)\n",
    "    i+=1"
   ]
  },
  {
   "cell_type": "code",
   "execution_count": 173,
   "id": "4dbd460c",
   "metadata": {},
   "outputs": [
    {
     "data": {
      "text/html": [
       "<div>\n",
       "<style scoped>\n",
       "    .dataframe tbody tr th:only-of-type {\n",
       "        vertical-align: middle;\n",
       "    }\n",
       "\n",
       "    .dataframe tbody tr th {\n",
       "        vertical-align: top;\n",
       "    }\n",
       "\n",
       "    .dataframe thead th {\n",
       "        text-align: right;\n",
       "    }\n",
       "</style>\n",
       "<table border=\"1\" class=\"dataframe\">\n",
       "  <thead>\n",
       "    <tr style=\"text-align: right;\">\n",
       "      <th></th>\n",
       "      <th>periode</th>\n",
       "      <th>ARI</th>\n",
       "    </tr>\n",
       "  </thead>\n",
       "  <tbody>\n",
       "    <tr>\n",
       "      <th>0</th>\n",
       "      <td>2</td>\n",
       "      <td>0.601614</td>\n",
       "    </tr>\n",
       "    <tr>\n",
       "      <th>1</th>\n",
       "      <td>4</td>\n",
       "      <td>0.298755</td>\n",
       "    </tr>\n",
       "    <tr>\n",
       "      <th>2</th>\n",
       "      <td>6</td>\n",
       "      <td>0.598247</td>\n",
       "    </tr>\n",
       "    <tr>\n",
       "      <th>3</th>\n",
       "      <td>8</td>\n",
       "      <td>0.940540</td>\n",
       "    </tr>\n",
       "    <tr>\n",
       "      <th>4</th>\n",
       "      <td>10</td>\n",
       "      <td>0.881846</td>\n",
       "    </tr>\n",
       "    <tr>\n",
       "      <th>5</th>\n",
       "      <td>12</td>\n",
       "      <td>0.612928</td>\n",
       "    </tr>\n",
       "    <tr>\n",
       "      <th>6</th>\n",
       "      <td>14</td>\n",
       "      <td>0.612928</td>\n",
       "    </tr>\n",
       "    <tr>\n",
       "      <th>7</th>\n",
       "      <td>16</td>\n",
       "      <td>0.612928</td>\n",
       "    </tr>\n",
       "    <tr>\n",
       "      <th>8</th>\n",
       "      <td>18</td>\n",
       "      <td>0.612748</td>\n",
       "    </tr>\n",
       "    <tr>\n",
       "      <th>9</th>\n",
       "      <td>20</td>\n",
       "      <td>0.612838</td>\n",
       "    </tr>\n",
       "    <tr>\n",
       "      <th>10</th>\n",
       "      <td>22</td>\n",
       "      <td>0.612748</td>\n",
       "    </tr>\n",
       "    <tr>\n",
       "      <th>11</th>\n",
       "      <td>24</td>\n",
       "      <td>0.612748</td>\n",
       "    </tr>\n",
       "  </tbody>\n",
       "</table>\n",
       "</div>"
      ],
      "text/plain": [
       "    periode       ARI\n",
       "0         2  0.601614\n",
       "1         4  0.298755\n",
       "2         6  0.598247\n",
       "3         8  0.940540\n",
       "4        10  0.881846\n",
       "5        12  0.612928\n",
       "6        14  0.612928\n",
       "7        16  0.612928\n",
       "8        18  0.612748\n",
       "9        20  0.612838\n",
       "10       22  0.612748\n",
       "11       24  0.612748"
      ]
     },
     "metadata": {},
     "output_type": "display_data"
    },
    {
     "data": {
      "image/png": "[encoded data removed]",
      "text/plain": [
       "<Figure size 1296x648 with 1 Axes>"
      ]
     },
     "metadata": {},
     "output_type": "display_data"
    }
   ],
   "source": [
    "ari_score_2month = pd.DataFrame(ari_score_2month, columns=[\"periode\", \"ARI\"])\n",
    "display(ari_score_2month)\n",
    "\n",
    "# graphique de l'indice de Rand ajousté (ARI)\n",
    "fig = plt.figure(figsize=(18,9))\n",
    "sns.lineplot(\n",
    "    data=ari_score_2month, \n",
    "    x=\"periode\", \n",
    "    y=\"ARI\",\n",
    "    marker=\"o\"\n",
    ")\n",
    "plt.xlim(1,time_delta+3)\n",
    "plt.axhline(\n",
    "    y=0.6, \n",
    "    linestyle=\"--\", \n",
    "    color=\"green\",\n",
    "    linewidth=1\n",
    ")\n",
    "\n",
    "for x, y in zip(ari_score_2month[\"periode\"], ari_score_2month[\"ARI\"]):\n",
    "    plt.text(\n",
    "        x = x,\n",
    "        y = y-0.03,\n",
    "        s = \"{:.3f}\".format(y), \n",
    "        color = \"blue\"\n",
    "    )\n",
    "\n",
    "plt.xticks(np.arange(1,time_delta+3,1))\n",
    "plt.xlabel(\"Période (mois)\")\n",
    "plt.ylabel(\"Score ARI\")\n",
    "plt.title(\"Stabilité temporelle de la segmentation par K-Means\",\n",
    "          fontsize=18,\n",
    "          color=\"b\")\n",
    "plt.show()"
   ]
  },
  {
   "cell_type": "code",
   "execution_count": null,
   "id": "cedbf848",
   "metadata": {},
   "outputs": [],
   "source": []
  }
 ],
 "metadata": {
  "kernelspec": {
   "display_name": "Projet_05",
   "language": "python",
   "name": "projet_05"
  },
  "language_info": {
   "codemirror_mode": {
    "name": "ipython",
    "version": 3
   },
   "file_extension": ".py",
   "mimetype": "text/x-python",
   "name": "python",
   "nbconvert_exporter": "python",
   "pygments_lexer": "ipython3",
   "version": "3.8.12"
  }
 },
 "nbformat": 4,
 "nbformat_minor": 5
}
